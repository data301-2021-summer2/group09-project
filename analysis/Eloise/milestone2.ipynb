{
 "cells": [
  {
   "cell_type": "markdown",
   "id": "0d4c91ed-729f-4146-bde6-deb0cf777336",
   "metadata": {
    "tags": []
   },
   "source": [
    "## Research Question\n",
    "### Is there a relationship between the life ladder and GDP per capita from 2008 to 2018? "
   ]
  },
  {
   "cell_type": "code",
   "execution_count": 1,
   "id": "efa7c09f-dc3f-4a79-95a2-f3a8b6b6631b",
   "metadata": {},
   "outputs": [],
   "source": [
    "import pandas as pd\n",
    "import numpy as np"
   ]
  },
  {
   "cell_type": "markdown",
   "id": "768b8fd6-ea06-4a1f-8623-a396fa294ade",
   "metadata": {},
   "source": [
    "### Method chaining\n",
    "- Load the dataframe, drop all NA, reset index, and remove columns not being used\n",
    "- set the year from 2008-2018, reset index, creata a new column and rename it"
   ]
  },
  {
   "cell_type": "code",
   "execution_count": 2,
   "id": "09c04b76-b06a-4251-a108-3bb4e1808395",
   "metadata": {},
   "outputs": [],
   "source": [
    "def load_and_process(url_or_path_to_csv_file):\n",
    "    \n",
    "    df1 = (\n",
    "    pd.read_csv('whreport.csv')\n",
    "    .dropna()\n",
    "    .reset_index(drop=True)\n",
    "    .drop(columns =['Social support','Healthy life expectancy at birth','Freedom to make life choices','Generosity','Perceptions of corruption','Positive affect','Negative affect'])\n",
    "    )\n",
    "    \n",
    "    df2 =(\n",
    "    df1\n",
    "    .loc[df1.year >= 2008]\n",
    "    .loc[df1.year <= 2018]\n",
    "    .reset_index(drop=True)\n",
    "    .assign(GDP_per_capita= lambda x: np.exp(x['Log GDP per capita']))\n",
    "    .rename(columns ={'GDP_per_capita':'GDP per capita'})\n",
    "    )\n",
    "\n",
    "    return df2 \n"
   ]
  },
  {
   "cell_type": "code",
   "execution_count": 4,
   "id": "c62b6e66-869f-4be3-b04f-124c0ea821f0",
   "metadata": {},
   "outputs": [],
   "source": [
    "sampledata=load_and_process('whreport.csv')"
   ]
  },
  {
   "cell_type": "markdown",
   "id": "1503c9f8-d236-4c08-b6a6-3e0a656e4c3a",
   "metadata": {},
   "source": [
    "### creata another load_year function\n",
    "- to all of the year more neatly and clear for visualization"
   ]
  },
  {
   "cell_type": "code",
   "execution_count": 5,
   "id": "1c5bdc18-de9e-4cdc-a147-d3a8c58771c5",
   "metadata": {},
   "outputs": [],
   "source": [
    "def load_year (dataframe ,year):\n",
    "    dfyear = dataframe[dataframe['year'] == year].reset_index(drop=True)\n",
    "    return dfyear"
   ]
  },
  {
   "cell_type": "code",
   "execution_count": 6,
   "id": "8adc4910-ba23-4343-bae0-d47b0dd09aec",
   "metadata": {},
   "outputs": [
    {
     "data": {
      "text/html": [
       "<div>\n",
       "<style scoped>\n",
       "    .dataframe tbody tr th:only-of-type {\n",
       "        vertical-align: middle;\n",
       "    }\n",
       "\n",
       "    .dataframe tbody tr th {\n",
       "        vertical-align: top;\n",
       "    }\n",
       "\n",
       "    .dataframe thead th {\n",
       "        text-align: right;\n",
       "    }\n",
       "</style>\n",
       "<table border=\"1\" class=\"dataframe\">\n",
       "  <thead>\n",
       "    <tr style=\"text-align: right;\">\n",
       "      <th></th>\n",
       "      <th>Country name</th>\n",
       "      <th>year</th>\n",
       "      <th>Life Ladder</th>\n",
       "      <th>Log GDP per capita</th>\n",
       "      <th>GDP per capita</th>\n",
       "    </tr>\n",
       "  </thead>\n",
       "  <tbody>\n",
       "    <tr>\n",
       "      <th>0</th>\n",
       "      <td>Afghanistan</td>\n",
       "      <td>2008</td>\n",
       "      <td>3.724</td>\n",
       "      <td>7.370</td>\n",
       "      <td>1587.633783</td>\n",
       "    </tr>\n",
       "    <tr>\n",
       "      <th>1</th>\n",
       "      <td>Argentina</td>\n",
       "      <td>2008</td>\n",
       "      <td>5.961</td>\n",
       "      <td>10.048</td>\n",
       "      <td>23109.521552</td>\n",
       "    </tr>\n",
       "    <tr>\n",
       "      <th>2</th>\n",
       "      <td>Armenia</td>\n",
       "      <td>2008</td>\n",
       "      <td>4.652</td>\n",
       "      <td>9.256</td>\n",
       "      <td>10467.180768</td>\n",
       "    </tr>\n",
       "    <tr>\n",
       "      <th>3</th>\n",
       "      <td>Australia</td>\n",
       "      <td>2008</td>\n",
       "      <td>7.254</td>\n",
       "      <td>10.719</td>\n",
       "      <td>45206.673558</td>\n",
       "    </tr>\n",
       "    <tr>\n",
       "      <th>4</th>\n",
       "      <td>Austria</td>\n",
       "      <td>2008</td>\n",
       "      <td>7.181</td>\n",
       "      <td>10.887</td>\n",
       "      <td>53476.629197</td>\n",
       "    </tr>\n",
       "    <tr>\n",
       "      <th>...</th>\n",
       "      <td>...</td>\n",
       "      <td>...</td>\n",
       "      <td>...</td>\n",
       "      <td>...</td>\n",
       "      <td>...</td>\n",
       "    </tr>\n",
       "    <tr>\n",
       "      <th>96</th>\n",
       "      <td>Uruguay</td>\n",
       "      <td>2008</td>\n",
       "      <td>5.664</td>\n",
       "      <td>9.671</td>\n",
       "      <td>15851.192293</td>\n",
       "    </tr>\n",
       "    <tr>\n",
       "      <th>97</th>\n",
       "      <td>Venezuela</td>\n",
       "      <td>2008</td>\n",
       "      <td>6.258</td>\n",
       "      <td>9.701</td>\n",
       "      <td>16333.932967</td>\n",
       "    </tr>\n",
       "    <tr>\n",
       "      <th>98</th>\n",
       "      <td>Vietnam</td>\n",
       "      <td>2008</td>\n",
       "      <td>5.480</td>\n",
       "      <td>8.440</td>\n",
       "      <td>4628.554985</td>\n",
       "    </tr>\n",
       "    <tr>\n",
       "      <th>99</th>\n",
       "      <td>Zambia</td>\n",
       "      <td>2008</td>\n",
       "      <td>4.730</td>\n",
       "      <td>7.918</td>\n",
       "      <td>2746.273004</td>\n",
       "    </tr>\n",
       "    <tr>\n",
       "      <th>100</th>\n",
       "      <td>Zimbabwe</td>\n",
       "      <td>2008</td>\n",
       "      <td>3.174</td>\n",
       "      <td>7.461</td>\n",
       "      <td>1738.886074</td>\n",
       "    </tr>\n",
       "  </tbody>\n",
       "</table>\n",
       "<p>101 rows × 5 columns</p>\n",
       "</div>"
      ],
      "text/plain": [
       "    Country name  year  Life Ladder  Log GDP per capita  GDP per capita\n",
       "0    Afghanistan  2008        3.724               7.370     1587.633783\n",
       "1      Argentina  2008        5.961              10.048    23109.521552\n",
       "2        Armenia  2008        4.652               9.256    10467.180768\n",
       "3      Australia  2008        7.254              10.719    45206.673558\n",
       "4        Austria  2008        7.181              10.887    53476.629197\n",
       "..           ...   ...          ...                 ...             ...\n",
       "96       Uruguay  2008        5.664               9.671    15851.192293\n",
       "97     Venezuela  2008        6.258               9.701    16333.932967\n",
       "98       Vietnam  2008        5.480               8.440     4628.554985\n",
       "99        Zambia  2008        4.730               7.918     2746.273004\n",
       "100     Zimbabwe  2008        3.174               7.461     1738.886074\n",
       "\n",
       "[101 rows x 5 columns]"
      ]
     },
     "execution_count": 6,
     "metadata": {},
     "output_type": "execute_result"
    }
   ],
   "source": [
    "load_year(sampledata,2008)"
   ]
  },
  {
   "cell_type": "code",
   "execution_count": 471,
   "id": "b6f46a80-a856-43ec-ad78-417ae6585470",
   "metadata": {},
   "outputs": [
    {
     "data": {
      "text/html": [
       "<div>\n",
       "<style scoped>\n",
       "    .dataframe tbody tr th:only-of-type {\n",
       "        vertical-align: middle;\n",
       "    }\n",
       "\n",
       "    .dataframe tbody tr th {\n",
       "        vertical-align: top;\n",
       "    }\n",
       "\n",
       "    .dataframe thead th {\n",
       "        text-align: right;\n",
       "    }\n",
       "</style>\n",
       "<table border=\"1\" class=\"dataframe\">\n",
       "  <thead>\n",
       "    <tr style=\"text-align: right;\">\n",
       "      <th></th>\n",
       "      <th>Country name</th>\n",
       "      <th>year</th>\n",
       "      <th>Life Ladder</th>\n",
       "      <th>Log GDP per capita</th>\n",
       "      <th>GDP per capita</th>\n",
       "    </tr>\n",
       "  </thead>\n",
       "  <tbody>\n",
       "    <tr>\n",
       "      <th>0</th>\n",
       "      <td>Afghanistan</td>\n",
       "      <td>2008</td>\n",
       "      <td>3.724</td>\n",
       "      <td>7.370</td>\n",
       "      <td>1587.633783</td>\n",
       "    </tr>\n",
       "    <tr>\n",
       "      <th>1</th>\n",
       "      <td>Afghanistan</td>\n",
       "      <td>2009</td>\n",
       "      <td>4.402</td>\n",
       "      <td>7.540</td>\n",
       "      <td>1881.830025</td>\n",
       "    </tr>\n",
       "    <tr>\n",
       "      <th>2</th>\n",
       "      <td>Afghanistan</td>\n",
       "      <td>2010</td>\n",
       "      <td>4.758</td>\n",
       "      <td>7.647</td>\n",
       "      <td>2094.353096</td>\n",
       "    </tr>\n",
       "    <tr>\n",
       "      <th>3</th>\n",
       "      <td>Afghanistan</td>\n",
       "      <td>2011</td>\n",
       "      <td>3.832</td>\n",
       "      <td>7.620</td>\n",
       "      <td>2038.562130</td>\n",
       "    </tr>\n",
       "    <tr>\n",
       "      <th>4</th>\n",
       "      <td>Afghanistan</td>\n",
       "      <td>2012</td>\n",
       "      <td>3.783</td>\n",
       "      <td>7.705</td>\n",
       "      <td>2219.417382</td>\n",
       "    </tr>\n",
       "    <tr>\n",
       "      <th>...</th>\n",
       "      <td>...</td>\n",
       "      <td>...</td>\n",
       "      <td>...</td>\n",
       "      <td>...</td>\n",
       "      <td>...</td>\n",
       "    </tr>\n",
       "    <tr>\n",
       "      <th>1327</th>\n",
       "      <td>Zimbabwe</td>\n",
       "      <td>2014</td>\n",
       "      <td>4.184</td>\n",
       "      <td>7.991</td>\n",
       "      <td>2954.249733</td>\n",
       "    </tr>\n",
       "    <tr>\n",
       "      <th>1328</th>\n",
       "      <td>Zimbabwe</td>\n",
       "      <td>2015</td>\n",
       "      <td>3.703</td>\n",
       "      <td>7.992</td>\n",
       "      <td>2957.205460</td>\n",
       "    </tr>\n",
       "    <tr>\n",
       "      <th>1329</th>\n",
       "      <td>Zimbabwe</td>\n",
       "      <td>2016</td>\n",
       "      <td>3.735</td>\n",
       "      <td>7.984</td>\n",
       "      <td>2933.642195</td>\n",
       "    </tr>\n",
       "    <tr>\n",
       "      <th>1330</th>\n",
       "      <td>Zimbabwe</td>\n",
       "      <td>2017</td>\n",
       "      <td>3.638</td>\n",
       "      <td>8.016</td>\n",
       "      <td>3029.036921</td>\n",
       "    </tr>\n",
       "    <tr>\n",
       "      <th>1331</th>\n",
       "      <td>Zimbabwe</td>\n",
       "      <td>2018</td>\n",
       "      <td>3.616</td>\n",
       "      <td>8.049</td>\n",
       "      <td>3130.662743</td>\n",
       "    </tr>\n",
       "  </tbody>\n",
       "</table>\n",
       "<p>1332 rows × 5 columns</p>\n",
       "</div>"
      ],
      "text/plain": [
       "     Country name  year  Life Ladder  Log GDP per capita  GDP per capita\n",
       "0     Afghanistan  2008        3.724               7.370     1587.633783\n",
       "1     Afghanistan  2009        4.402               7.540     1881.830025\n",
       "2     Afghanistan  2010        4.758               7.647     2094.353096\n",
       "3     Afghanistan  2011        3.832               7.620     2038.562130\n",
       "4     Afghanistan  2012        3.783               7.705     2219.417382\n",
       "...           ...   ...          ...                 ...             ...\n",
       "1327     Zimbabwe  2014        4.184               7.991     2954.249733\n",
       "1328     Zimbabwe  2015        3.703               7.992     2957.205460\n",
       "1329     Zimbabwe  2016        3.735               7.984     2933.642195\n",
       "1330     Zimbabwe  2017        3.638               8.016     3029.036921\n",
       "1331     Zimbabwe  2018        3.616               8.049     3130.662743\n",
       "\n",
       "[1332 rows x 5 columns]"
      ]
     },
     "execution_count": 471,
     "metadata": {},
     "output_type": "execute_result"
    }
   ],
   "source": [
    "df2 =(\n",
    "    df1\n",
    "    .loc[df1.year >= 2008]\n",
    "    .loc[df1.year <= 2018]\n",
    "    .reset_index(drop=True)\n",
    "    .assign(GDP_per_capita= lambda x: np.exp(x['Log GDP per capita']))\n",
    "    .rename(columns ={'GDP_per_capita':'GDP per capita'})\n",
    ")\n",
    "\n",
    "df2"
   ]
  },
  {
   "cell_type": "code",
   "execution_count": 461,
   "id": "ce24f543-b63e-4148-80dc-29f7b419d530",
   "metadata": {},
   "outputs": [],
   "source": [
    "df = pd.read_csv('whreport.csv')"
   ]
  },
  {
   "cell_type": "code",
   "execution_count": 273,
   "id": "2b48abbc-1b83-4795-a883-f00e96e264d9",
   "metadata": {},
   "outputs": [
    {
     "data": {
      "text/html": [
       "<div>\n",
       "<style scoped>\n",
       "    .dataframe tbody tr th:only-of-type {\n",
       "        vertical-align: middle;\n",
       "    }\n",
       "\n",
       "    .dataframe tbody tr th {\n",
       "        vertical-align: top;\n",
       "    }\n",
       "\n",
       "    .dataframe thead th {\n",
       "        text-align: right;\n",
       "    }\n",
       "</style>\n",
       "<table border=\"1\" class=\"dataframe\">\n",
       "  <thead>\n",
       "    <tr style=\"text-align: right;\">\n",
       "      <th></th>\n",
       "      <th>Country name</th>\n",
       "      <th>year</th>\n",
       "      <th>Life Ladder</th>\n",
       "      <th>Log GDP per capita</th>\n",
       "      <th>GDP per capita</th>\n",
       "    </tr>\n",
       "  </thead>\n",
       "  <tbody>\n",
       "    <tr>\n",
       "      <th>0</th>\n",
       "      <td>Afghanistan</td>\n",
       "      <td>2008</td>\n",
       "      <td>3.724</td>\n",
       "      <td>7.370</td>\n",
       "      <td>1587.634</td>\n",
       "    </tr>\n",
       "    <tr>\n",
       "      <th>1</th>\n",
       "      <td>Afghanistan</td>\n",
       "      <td>2009</td>\n",
       "      <td>4.402</td>\n",
       "      <td>7.540</td>\n",
       "      <td>1881.830</td>\n",
       "    </tr>\n",
       "    <tr>\n",
       "      <th>2</th>\n",
       "      <td>Afghanistan</td>\n",
       "      <td>2010</td>\n",
       "      <td>4.758</td>\n",
       "      <td>7.647</td>\n",
       "      <td>2094.353</td>\n",
       "    </tr>\n",
       "    <tr>\n",
       "      <th>3</th>\n",
       "      <td>Afghanistan</td>\n",
       "      <td>2011</td>\n",
       "      <td>3.832</td>\n",
       "      <td>7.620</td>\n",
       "      <td>2038.562</td>\n",
       "    </tr>\n",
       "    <tr>\n",
       "      <th>4</th>\n",
       "      <td>Afghanistan</td>\n",
       "      <td>2012</td>\n",
       "      <td>3.783</td>\n",
       "      <td>7.705</td>\n",
       "      <td>2219.417</td>\n",
       "    </tr>\n",
       "    <tr>\n",
       "      <th>...</th>\n",
       "      <td>...</td>\n",
       "      <td>...</td>\n",
       "      <td>...</td>\n",
       "      <td>...</td>\n",
       "      <td>...</td>\n",
       "    </tr>\n",
       "    <tr>\n",
       "      <th>1944</th>\n",
       "      <td>Zimbabwe</td>\n",
       "      <td>2016</td>\n",
       "      <td>3.735</td>\n",
       "      <td>7.984</td>\n",
       "      <td>2933.642</td>\n",
       "    </tr>\n",
       "    <tr>\n",
       "      <th>1945</th>\n",
       "      <td>Zimbabwe</td>\n",
       "      <td>2017</td>\n",
       "      <td>3.638</td>\n",
       "      <td>8.016</td>\n",
       "      <td>3029.037</td>\n",
       "    </tr>\n",
       "    <tr>\n",
       "      <th>1946</th>\n",
       "      <td>Zimbabwe</td>\n",
       "      <td>2018</td>\n",
       "      <td>3.616</td>\n",
       "      <td>8.049</td>\n",
       "      <td>3130.663</td>\n",
       "    </tr>\n",
       "    <tr>\n",
       "      <th>1947</th>\n",
       "      <td>Zimbabwe</td>\n",
       "      <td>2019</td>\n",
       "      <td>2.694</td>\n",
       "      <td>7.950</td>\n",
       "      <td>2835.575</td>\n",
       "    </tr>\n",
       "    <tr>\n",
       "      <th>1948</th>\n",
       "      <td>Zimbabwe</td>\n",
       "      <td>2020</td>\n",
       "      <td>3.160</td>\n",
       "      <td>7.829</td>\n",
       "      <td>2512.416</td>\n",
       "    </tr>\n",
       "  </tbody>\n",
       "</table>\n",
       "<p>1913 rows × 5 columns</p>\n",
       "</div>"
      ],
      "text/plain": [
       "     Country name  year  Life Ladder  Log GDP per capita  GDP per capita\n",
       "0     Afghanistan  2008        3.724               7.370        1587.634\n",
       "1     Afghanistan  2009        4.402               7.540        1881.830\n",
       "2     Afghanistan  2010        4.758               7.647        2094.353\n",
       "3     Afghanistan  2011        3.832               7.620        2038.562\n",
       "4     Afghanistan  2012        3.783               7.705        2219.417\n",
       "...           ...   ...          ...                 ...             ...\n",
       "1944     Zimbabwe  2016        3.735               7.984        2933.642\n",
       "1945     Zimbabwe  2017        3.638               8.016        3029.037\n",
       "1946     Zimbabwe  2018        3.616               8.049        3130.663\n",
       "1947     Zimbabwe  2019        2.694               7.950        2835.575\n",
       "1948     Zimbabwe  2020        3.160               7.829        2512.416\n",
       "\n",
       "[1913 rows x 5 columns]"
      ]
     },
     "execution_count": 273,
     "metadata": {},
     "output_type": "execute_result"
    }
   ],
   "source": [
    "df"
   ]
  },
  {
   "cell_type": "markdown",
   "id": "3f318ae6-f4bb-4fec-a501-735ad796cfdb",
   "metadata": {},
   "source": [
    "### Remove all columns not being used"
   ]
  },
  {
   "cell_type": "code",
   "execution_count": 23,
   "id": "520e52b0-db41-435b-b604-7a4eb28112b0",
   "metadata": {},
   "outputs": [],
   "source": [
    "del df ['Social support']"
   ]
  },
  {
   "cell_type": "code",
   "execution_count": 25,
   "id": "a9a6ccec-a0a0-4815-849e-5d2822086482",
   "metadata": {},
   "outputs": [],
   "source": [
    "del df ['Healthy life expectancy at birth']"
   ]
  },
  {
   "cell_type": "code",
   "execution_count": 26,
   "id": "27d95b3b-c3bc-49b4-bdab-8c0074fe995a",
   "metadata": {},
   "outputs": [],
   "source": [
    "del df ['Freedom to make life choices']"
   ]
  },
  {
   "cell_type": "code",
   "execution_count": 27,
   "id": "a1a19d58-f0cc-422d-b264-1595f428b790",
   "metadata": {},
   "outputs": [],
   "source": [
    "del df ['Generosity']"
   ]
  },
  {
   "cell_type": "code",
   "execution_count": 29,
   "id": "ee9c11ff-bd0f-4cda-b651-843a60a8263c",
   "metadata": {},
   "outputs": [],
   "source": [
    "del df ['Perceptions of corruption']"
   ]
  },
  {
   "cell_type": "code",
   "execution_count": 30,
   "id": "c0d57781-81b8-4949-93ef-8308858fc5c8",
   "metadata": {},
   "outputs": [],
   "source": [
    "del df ['Positive affect']"
   ]
  },
  {
   "cell_type": "code",
   "execution_count": 31,
   "id": "9ce67de8-5544-4024-af07-dac2c6a17e58",
   "metadata": {},
   "outputs": [],
   "source": [
    "del df ['Negative affect']"
   ]
  },
  {
   "cell_type": "code",
   "execution_count": 33,
   "id": "95bf6512-a465-4f11-a606-14f59ce8058b",
   "metadata": {},
   "outputs": [],
   "source": [
    "import math"
   ]
  },
  {
   "cell_type": "markdown",
   "id": "741687da-9c4f-4ec8-a04e-292cc3a4c7b3",
   "metadata": {},
   "source": [
    "### create a column based on existing one for calculation"
   ]
  },
  {
   "cell_type": "code",
   "execution_count": 327,
   "id": "7f77276d-23d7-4ee9-a375-d809abb5dc31",
   "metadata": {},
   "outputs": [
    {
     "data": {
      "text/plain": [
       "0       1587.634\n",
       "1       1881.830\n",
       "2       2094.353\n",
       "3       2038.562\n",
       "4       2219.417\n",
       "          ...   \n",
       "1944    2933.642\n",
       "1945    3029.037\n",
       "1946    3130.663\n",
       "1947    2835.575\n",
       "1948    2512.416\n",
       "Name: Log GDP per capita, Length: 1708, dtype: float64"
      ]
     },
     "execution_count": 327,
     "metadata": {},
     "output_type": "execute_result"
    }
   ],
   "source": [
    "GDPinValue = round(np.exp(df['Log GDP per capita']),3)\n",
    "GDPinValue"
   ]
  },
  {
   "cell_type": "code",
   "execution_count": 48,
   "id": "530ba5ba-f8c5-4844-b93c-4624ed0d4527",
   "metadata": {},
   "outputs": [],
   "source": [
    "df ['GDP per capita'] = GDPinValue"
   ]
  },
  {
   "cell_type": "code",
   "execution_count": null,
   "id": "9c09ab19-fbdd-4cec-ba71-3f17775378d4",
   "metadata": {},
   "outputs": [],
   "source": [
    "GDPinValue"
   ]
  },
  {
   "cell_type": "markdown",
   "id": "5c7c6252-2760-4a68-aa7b-fc95f904d7cc",
   "metadata": {},
   "source": [
    "### Drop all NA and set the timeframe for data analysis"
   ]
  },
  {
   "cell_type": "code",
   "execution_count": 162,
   "id": "5c2eb421-887e-4624-a770-b5ef33290ec1",
   "metadata": {},
   "outputs": [],
   "source": [
    "df=df.dropna()"
   ]
  },
  {
   "cell_type": "code",
   "execution_count": 247,
   "id": "c06a22a4-d950-4c2e-9977-9d271f861415",
   "metadata": {},
   "outputs": [],
   "source": [
    "cleaned_df = df[(df['year'] >= 2008) & (df['year'] <= 2018)]"
   ]
  },
  {
   "cell_type": "code",
   "execution_count": 416,
   "id": "be8daba2-87ab-474b-98be-879a92643c3f",
   "metadata": {},
   "outputs": [
    {
     "data": {
      "text/html": [
       "<div>\n",
       "<style scoped>\n",
       "    .dataframe tbody tr th:only-of-type {\n",
       "        vertical-align: middle;\n",
       "    }\n",
       "\n",
       "    .dataframe tbody tr th {\n",
       "        vertical-align: top;\n",
       "    }\n",
       "\n",
       "    .dataframe thead th {\n",
       "        text-align: right;\n",
       "    }\n",
       "</style>\n",
       "<table border=\"1\" class=\"dataframe\">\n",
       "  <thead>\n",
       "    <tr style=\"text-align: right;\">\n",
       "      <th></th>\n",
       "      <th>Country name</th>\n",
       "      <th>year</th>\n",
       "      <th>Life Ladder</th>\n",
       "      <th>Log GDP per capita</th>\n",
       "      <th>GDP per capita</th>\n",
       "      <th>Category</th>\n",
       "      <th>Categories</th>\n",
       "    </tr>\n",
       "  </thead>\n",
       "  <tbody>\n",
       "    <tr>\n",
       "      <th>0</th>\n",
       "      <td>Afghanistan</td>\n",
       "      <td>2008</td>\n",
       "      <td>3.724</td>\n",
       "      <td>7.370</td>\n",
       "      <td>1587.634</td>\n",
       "      <td>Low</td>\n",
       "      <td>Low</td>\n",
       "    </tr>\n",
       "    <tr>\n",
       "      <th>1</th>\n",
       "      <td>Afghanistan</td>\n",
       "      <td>2009</td>\n",
       "      <td>4.402</td>\n",
       "      <td>7.540</td>\n",
       "      <td>1881.830</td>\n",
       "      <td>Low</td>\n",
       "      <td>Low</td>\n",
       "    </tr>\n",
       "    <tr>\n",
       "      <th>2</th>\n",
       "      <td>Afghanistan</td>\n",
       "      <td>2010</td>\n",
       "      <td>4.758</td>\n",
       "      <td>7.647</td>\n",
       "      <td>2094.353</td>\n",
       "      <td>Low</td>\n",
       "      <td>Low</td>\n",
       "    </tr>\n",
       "    <tr>\n",
       "      <th>3</th>\n",
       "      <td>Afghanistan</td>\n",
       "      <td>2011</td>\n",
       "      <td>3.832</td>\n",
       "      <td>7.620</td>\n",
       "      <td>2038.562</td>\n",
       "      <td>Low</td>\n",
       "      <td>Low</td>\n",
       "    </tr>\n",
       "    <tr>\n",
       "      <th>4</th>\n",
       "      <td>Afghanistan</td>\n",
       "      <td>2012</td>\n",
       "      <td>3.783</td>\n",
       "      <td>7.705</td>\n",
       "      <td>2219.417</td>\n",
       "      <td>Low</td>\n",
       "      <td>Low</td>\n",
       "    </tr>\n",
       "    <tr>\n",
       "      <th>...</th>\n",
       "      <td>...</td>\n",
       "      <td>...</td>\n",
       "      <td>...</td>\n",
       "      <td>...</td>\n",
       "      <td>...</td>\n",
       "      <td>...</td>\n",
       "      <td>...</td>\n",
       "    </tr>\n",
       "    <tr>\n",
       "      <th>1465</th>\n",
       "      <td>Zimbabwe</td>\n",
       "      <td>2014</td>\n",
       "      <td>4.184</td>\n",
       "      <td>7.991</td>\n",
       "      <td>2954.250</td>\n",
       "      <td>Low</td>\n",
       "      <td>Low</td>\n",
       "    </tr>\n",
       "    <tr>\n",
       "      <th>1466</th>\n",
       "      <td>Zimbabwe</td>\n",
       "      <td>2015</td>\n",
       "      <td>3.703</td>\n",
       "      <td>7.992</td>\n",
       "      <td>2957.205</td>\n",
       "      <td>Low</td>\n",
       "      <td>Low</td>\n",
       "    </tr>\n",
       "    <tr>\n",
       "      <th>1467</th>\n",
       "      <td>Zimbabwe</td>\n",
       "      <td>2016</td>\n",
       "      <td>3.735</td>\n",
       "      <td>7.984</td>\n",
       "      <td>2933.642</td>\n",
       "      <td>Low</td>\n",
       "      <td>Low</td>\n",
       "    </tr>\n",
       "    <tr>\n",
       "      <th>1468</th>\n",
       "      <td>Zimbabwe</td>\n",
       "      <td>2017</td>\n",
       "      <td>3.638</td>\n",
       "      <td>8.016</td>\n",
       "      <td>3029.037</td>\n",
       "      <td>Low</td>\n",
       "      <td>Low</td>\n",
       "    </tr>\n",
       "    <tr>\n",
       "      <th>1469</th>\n",
       "      <td>Zimbabwe</td>\n",
       "      <td>2018</td>\n",
       "      <td>3.616</td>\n",
       "      <td>8.049</td>\n",
       "      <td>3130.663</td>\n",
       "      <td>Low</td>\n",
       "      <td>Low</td>\n",
       "    </tr>\n",
       "  </tbody>\n",
       "</table>\n",
       "<p>1470 rows × 7 columns</p>\n",
       "</div>"
      ],
      "text/plain": [
       "     Country name  year  Life Ladder  Log GDP per capita  GDP per capita  \\\n",
       "0     Afghanistan  2008        3.724               7.370        1587.634   \n",
       "1     Afghanistan  2009        4.402               7.540        1881.830   \n",
       "2     Afghanistan  2010        4.758               7.647        2094.353   \n",
       "3     Afghanistan  2011        3.832               7.620        2038.562   \n",
       "4     Afghanistan  2012        3.783               7.705        2219.417   \n",
       "...           ...   ...          ...                 ...             ...   \n",
       "1465     Zimbabwe  2014        4.184               7.991        2954.250   \n",
       "1466     Zimbabwe  2015        3.703               7.992        2957.205   \n",
       "1467     Zimbabwe  2016        3.735               7.984        2933.642   \n",
       "1468     Zimbabwe  2017        3.638               8.016        3029.037   \n",
       "1469     Zimbabwe  2018        3.616               8.049        3130.663   \n",
       "\n",
       "     Category Categories  \n",
       "0         Low        Low  \n",
       "1         Low        Low  \n",
       "2         Low        Low  \n",
       "3         Low        Low  \n",
       "4         Low        Low  \n",
       "...       ...        ...  \n",
       "1465      Low        Low  \n",
       "1466      Low        Low  \n",
       "1467      Low        Low  \n",
       "1468      Low        Low  \n",
       "1469      Low        Low  \n",
       "\n",
       "[1470 rows x 7 columns]"
      ]
     },
     "execution_count": 416,
     "metadata": {},
     "output_type": "execute_result"
    }
   ],
   "source": [
    "cleaned_df=cleaned_df.reset_index(drop=True)\n",
    "cleaned_df"
   ]
  },
  {
   "cell_type": "code",
   "execution_count": 253,
   "id": "b6d5b790-5f1f-4cf1-aaa3-a66850d980d3",
   "metadata": {},
   "outputs": [],
   "source": [
    "cleaned_df=cleaned_df.rename(columns = {'Categories':'GDP Categories'})"
   ]
  },
  {
   "cell_type": "code",
   "execution_count": 185,
   "id": "3874973c-a50f-42fc-8054-0d1b7208f72e",
   "metadata": {},
   "outputs": [
    {
     "data": {
      "text/plain": [
       "{2008, 2009, 2010, 2011, 2012, 2013, 2014, 2015, 2016, 2017, 2018}"
      ]
     },
     "execution_count": 185,
     "metadata": {},
     "output_type": "execute_result"
    }
   ],
   "source": [
    "set(cleaned_df['year'])"
   ]
  },
  {
   "cell_type": "code",
   "execution_count": 186,
   "id": "efc90a74-dac1-4ccf-b50a-269210639334",
   "metadata": {},
   "outputs": [
    {
     "data": {
      "text/plain": [
       "114119.337"
      ]
     },
     "execution_count": 186,
     "metadata": {},
     "output_type": "execute_result"
    }
   ],
   "source": [
    "max(cleaned_df['GDP per capita'])"
   ]
  },
  {
   "cell_type": "code",
   "execution_count": 187,
   "id": "3670901f-f5d6-437b-9cca-1cb09365e0e5",
   "metadata": {},
   "outputs": [
    {
     "data": {
      "text/plain": [
       "761.279"
      ]
     },
     "execution_count": 187,
     "metadata": {},
     "output_type": "execute_result"
    }
   ],
   "source": [
    "min(cleaned_df['GDP per capita'])"
   ]
  },
  {
   "cell_type": "code",
   "execution_count": 362,
   "id": "95f14d3e-8063-495c-b114-ab2156765d72",
   "metadata": {},
   "outputs": [
    {
     "data": {
      "text/plain": [
       "count      1470.000000\n",
       "mean      20198.257286\n",
       "std       20039.313562\n",
       "min         761.279000\n",
       "25%        4671.568250\n",
       "50%       12682.780500\n",
       "75%       30622.899750\n",
       "max      114119.337000\n",
       "Name: GDP per capita, dtype: float64"
      ]
     },
     "execution_count": 362,
     "metadata": {},
     "output_type": "execute_result"
    }
   ],
   "source": [
    "cleaned_df['GDP per capita'].describe()"
   ]
  },
  {
   "cell_type": "code",
   "execution_count": 386,
   "id": "397affa1-a499-4b91-9564-6ac853670c1e",
   "metadata": {},
   "outputs": [],
   "source": [
    "lowgdp = cleaned_df[(cleaned_df['GDP per capita'] >= 761.279) & (cleaned_df['GDP per capita'] <= 4671.568250)]"
   ]
  },
  {
   "cell_type": "code",
   "execution_count": 387,
   "id": "a27c0124-3687-4e58-ab9e-369d857fca6c",
   "metadata": {},
   "outputs": [],
   "source": [
    "mediumgdp = cleaned_df[(cleaned_df['GDP per capita'] >= 4671.568250) & (cleaned_df['GDP per capita'] <= 30622.899750)]"
   ]
  },
  {
   "cell_type": "code",
   "execution_count": 388,
   "id": "e5c2b0af-27d2-4347-88fe-b6ad9ae38d0b",
   "metadata": {},
   "outputs": [],
   "source": [
    "highgdp = cleaned_df[(cleaned_df['GDP per capita'] >=  30622.899750) & (cleaned_df['GDP per capita'] <= 114119.337000)]"
   ]
  },
  {
   "cell_type": "code",
   "execution_count": 427,
   "id": "aed60f17-9d19-4961-80f6-f5e399109240",
   "metadata": {},
   "outputs": [],
   "source": [
    "conditions = [(gdplist >= 761.279) & (gdplist <= 4671.568250), \n",
    "              (gdplist >= 4671.568250) & (gdplist <= 30622.899750),\n",
    "              (gdplist >=  30622.899750) & (gdplist <= 114119.337000)\n",
    "             ]"
   ]
  },
  {
   "cell_type": "code",
   "execution_count": 426,
   "id": "cc434642-62af-4c4f-a24b-a6a18ca011fe",
   "metadata": {},
   "outputs": [],
   "source": [
    "gdplist= cleaned_df['GDP per capita']"
   ]
  },
  {
   "cell_type": "code",
   "execution_count": 431,
   "id": "b126bd34-6756-40e1-8c1e-efeee3f993cb",
   "metadata": {},
   "outputs": [],
   "source": [
    "values = ['L', 'M', 'H']"
   ]
  },
  {
   "cell_type": "code",
   "execution_count": 432,
   "id": "32da093d-08d6-4b62-a1bb-e38ebffb9d2f",
   "metadata": {},
   "outputs": [],
   "source": [
    "cleaned_df['sample1'] = np.select(conditions,values)"
   ]
  },
  {
   "cell_type": "code",
   "execution_count": 441,
   "id": "df3a286a-6f3b-4e78-9741-8672f2274e4b",
   "metadata": {},
   "outputs": [
    {
     "data": {
      "text/html": [
       "<div>\n",
       "<style scoped>\n",
       "    .dataframe tbody tr th:only-of-type {\n",
       "        vertical-align: middle;\n",
       "    }\n",
       "\n",
       "    .dataframe tbody tr th {\n",
       "        vertical-align: top;\n",
       "    }\n",
       "\n",
       "    .dataframe thead th {\n",
       "        text-align: right;\n",
       "    }\n",
       "</style>\n",
       "<table border=\"1\" class=\"dataframe\">\n",
       "  <thead>\n",
       "    <tr style=\"text-align: right;\">\n",
       "      <th></th>\n",
       "      <th>Country name</th>\n",
       "      <th>year</th>\n",
       "      <th>Life Ladder</th>\n",
       "      <th>Log GDP per capita</th>\n",
       "      <th>GDP per capita</th>\n",
       "    </tr>\n",
       "  </thead>\n",
       "  <tbody>\n",
       "    <tr>\n",
       "      <th>0</th>\n",
       "      <td>Afghanistan</td>\n",
       "      <td>2008</td>\n",
       "      <td>3.724</td>\n",
       "      <td>7.370</td>\n",
       "      <td>1587.634</td>\n",
       "    </tr>\n",
       "    <tr>\n",
       "      <th>1</th>\n",
       "      <td>Afghanistan</td>\n",
       "      <td>2009</td>\n",
       "      <td>4.402</td>\n",
       "      <td>7.540</td>\n",
       "      <td>1881.830</td>\n",
       "    </tr>\n",
       "    <tr>\n",
       "      <th>2</th>\n",
       "      <td>Afghanistan</td>\n",
       "      <td>2010</td>\n",
       "      <td>4.758</td>\n",
       "      <td>7.647</td>\n",
       "      <td>2094.353</td>\n",
       "    </tr>\n",
       "    <tr>\n",
       "      <th>3</th>\n",
       "      <td>Afghanistan</td>\n",
       "      <td>2011</td>\n",
       "      <td>3.832</td>\n",
       "      <td>7.620</td>\n",
       "      <td>2038.562</td>\n",
       "    </tr>\n",
       "    <tr>\n",
       "      <th>4</th>\n",
       "      <td>Afghanistan</td>\n",
       "      <td>2012</td>\n",
       "      <td>3.783</td>\n",
       "      <td>7.705</td>\n",
       "      <td>2219.417</td>\n",
       "    </tr>\n",
       "    <tr>\n",
       "      <th>...</th>\n",
       "      <td>...</td>\n",
       "      <td>...</td>\n",
       "      <td>...</td>\n",
       "      <td>...</td>\n",
       "      <td>...</td>\n",
       "    </tr>\n",
       "    <tr>\n",
       "      <th>1465</th>\n",
       "      <td>Zimbabwe</td>\n",
       "      <td>2014</td>\n",
       "      <td>4.184</td>\n",
       "      <td>7.991</td>\n",
       "      <td>2954.250</td>\n",
       "    </tr>\n",
       "    <tr>\n",
       "      <th>1466</th>\n",
       "      <td>Zimbabwe</td>\n",
       "      <td>2015</td>\n",
       "      <td>3.703</td>\n",
       "      <td>7.992</td>\n",
       "      <td>2957.205</td>\n",
       "    </tr>\n",
       "    <tr>\n",
       "      <th>1467</th>\n",
       "      <td>Zimbabwe</td>\n",
       "      <td>2016</td>\n",
       "      <td>3.735</td>\n",
       "      <td>7.984</td>\n",
       "      <td>2933.642</td>\n",
       "    </tr>\n",
       "    <tr>\n",
       "      <th>1468</th>\n",
       "      <td>Zimbabwe</td>\n",
       "      <td>2017</td>\n",
       "      <td>3.638</td>\n",
       "      <td>8.016</td>\n",
       "      <td>3029.037</td>\n",
       "    </tr>\n",
       "    <tr>\n",
       "      <th>1469</th>\n",
       "      <td>Zimbabwe</td>\n",
       "      <td>2018</td>\n",
       "      <td>3.616</td>\n",
       "      <td>8.049</td>\n",
       "      <td>3130.663</td>\n",
       "    </tr>\n",
       "  </tbody>\n",
       "</table>\n",
       "<p>1470 rows × 5 columns</p>\n",
       "</div>"
      ],
      "text/plain": [
       "     Country name  year  Life Ladder  Log GDP per capita  GDP per capita\n",
       "0     Afghanistan  2008        3.724               7.370        1587.634\n",
       "1     Afghanistan  2009        4.402               7.540        1881.830\n",
       "2     Afghanistan  2010        4.758               7.647        2094.353\n",
       "3     Afghanistan  2011        3.832               7.620        2038.562\n",
       "4     Afghanistan  2012        3.783               7.705        2219.417\n",
       "...           ...   ...          ...                 ...             ...\n",
       "1465     Zimbabwe  2014        4.184               7.991        2954.250\n",
       "1466     Zimbabwe  2015        3.703               7.992        2957.205\n",
       "1467     Zimbabwe  2016        3.735               7.984        2933.642\n",
       "1468     Zimbabwe  2017        3.638               8.016        3029.037\n",
       "1469     Zimbabwe  2018        3.616               8.049        3130.663\n",
       "\n",
       "[1470 rows x 5 columns]"
      ]
     },
     "execution_count": 441,
     "metadata": {},
     "output_type": "execute_result"
    }
   ],
   "source": [
    "cleaned_df"
   ]
  },
  {
   "cell_type": "code",
   "execution_count": 440,
   "id": "7b6690d8-e638-4b11-ab97-4515296476b5",
   "metadata": {},
   "outputs": [],
   "source": [
    "del cleaned_df['Categories']"
   ]
  },
  {
   "cell_type": "code",
   "execution_count": null,
   "id": "77638992-bce2-4072-a090-914213c4a17d",
   "metadata": {},
   "outputs": [],
   "source": [
    "cleaned_df.assign()"
   ]
  },
  {
   "cell_type": "code",
   "execution_count": null,
   "id": "f07eb27f-c638-443c-a732-bd41f6f7775c",
   "metadata": {},
   "outputs": [],
   "source": [
    "sns.lmplot(x='total_bill', y='tip', hue='sex', data=tips_df, markers=['o', '^'], \n",
    "          scatter_kws={'s': 100, 'linewidth': 0.5, 'edgecolor': 'w'})"
   ]
  }
 ],
 "metadata": {
  "kernelspec": {
   "display_name": "Python 3 (ipykernel)",
   "language": "python",
   "name": "python3"
  },
  "language_info": {
   "codemirror_mode": {
    "name": "ipython",
    "version": 3
   },
   "file_extension": ".py",
   "mimetype": "text/x-python",
   "name": "python",
   "nbconvert_exporter": "python",
   "pygments_lexer": "ipython3",
   "version": "3.8.10"
  }
 },
 "nbformat": 4,
 "nbformat_minor": 5
}
