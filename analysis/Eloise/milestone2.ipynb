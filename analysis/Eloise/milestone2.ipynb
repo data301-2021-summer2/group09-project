{
 "cells": [
  {
   "cell_type": "markdown",
   "id": "0d4c91ed-729f-4146-bde6-deb0cf777336",
   "metadata": {},
   "source": [
    "## Research Question\n",
    "### Is there a relationship between the life ladder and GDP per capita from 2008 to 2018? \n",
    "### (with a close look to low, medium, and high GDP per capita)"
   ]
  },
  {
   "cell_type": "code",
   "execution_count": 5,
   "id": "efa7c09f-dc3f-4a79-95a2-f3a8b6b6631b",
   "metadata": {},
   "outputs": [],
   "source": [
    "import pandas as pd\n",
    "import numpy as np"
   ]
  },
  {
   "cell_type": "code",
   "execution_count": 20,
   "id": "ce24f543-b63e-4148-80dc-29f7b419d530",
   "metadata": {},
   "outputs": [],
   "source": [
    "df = pd.read_csv('whreport.csv')"
   ]
  },
  {
   "cell_type": "code",
   "execution_count": 273,
   "id": "2b48abbc-1b83-4795-a883-f00e96e264d9",
   "metadata": {},
   "outputs": [
    {
     "data": {
      "text/html": [
       "<div>\n",
       "<style scoped>\n",
       "    .dataframe tbody tr th:only-of-type {\n",
       "        vertical-align: middle;\n",
       "    }\n",
       "\n",
       "    .dataframe tbody tr th {\n",
       "        vertical-align: top;\n",
       "    }\n",
       "\n",
       "    .dataframe thead th {\n",
       "        text-align: right;\n",
       "    }\n",
       "</style>\n",
       "<table border=\"1\" class=\"dataframe\">\n",
       "  <thead>\n",
       "    <tr style=\"text-align: right;\">\n",
       "      <th></th>\n",
       "      <th>Country name</th>\n",
       "      <th>year</th>\n",
       "      <th>Life Ladder</th>\n",
       "      <th>Log GDP per capita</th>\n",
       "      <th>GDP per capita</th>\n",
       "    </tr>\n",
       "  </thead>\n",
       "  <tbody>\n",
       "    <tr>\n",
       "      <th>0</th>\n",
       "      <td>Afghanistan</td>\n",
       "      <td>2008</td>\n",
       "      <td>3.724</td>\n",
       "      <td>7.370</td>\n",
       "      <td>1587.634</td>\n",
       "    </tr>\n",
       "    <tr>\n",
       "      <th>1</th>\n",
       "      <td>Afghanistan</td>\n",
       "      <td>2009</td>\n",
       "      <td>4.402</td>\n",
       "      <td>7.540</td>\n",
       "      <td>1881.830</td>\n",
       "    </tr>\n",
       "    <tr>\n",
       "      <th>2</th>\n",
       "      <td>Afghanistan</td>\n",
       "      <td>2010</td>\n",
       "      <td>4.758</td>\n",
       "      <td>7.647</td>\n",
       "      <td>2094.353</td>\n",
       "    </tr>\n",
       "    <tr>\n",
       "      <th>3</th>\n",
       "      <td>Afghanistan</td>\n",
       "      <td>2011</td>\n",
       "      <td>3.832</td>\n",
       "      <td>7.620</td>\n",
       "      <td>2038.562</td>\n",
       "    </tr>\n",
       "    <tr>\n",
       "      <th>4</th>\n",
       "      <td>Afghanistan</td>\n",
       "      <td>2012</td>\n",
       "      <td>3.783</td>\n",
       "      <td>7.705</td>\n",
       "      <td>2219.417</td>\n",
       "    </tr>\n",
       "    <tr>\n",
       "      <th>...</th>\n",
       "      <td>...</td>\n",
       "      <td>...</td>\n",
       "      <td>...</td>\n",
       "      <td>...</td>\n",
       "      <td>...</td>\n",
       "    </tr>\n",
       "    <tr>\n",
       "      <th>1944</th>\n",
       "      <td>Zimbabwe</td>\n",
       "      <td>2016</td>\n",
       "      <td>3.735</td>\n",
       "      <td>7.984</td>\n",
       "      <td>2933.642</td>\n",
       "    </tr>\n",
       "    <tr>\n",
       "      <th>1945</th>\n",
       "      <td>Zimbabwe</td>\n",
       "      <td>2017</td>\n",
       "      <td>3.638</td>\n",
       "      <td>8.016</td>\n",
       "      <td>3029.037</td>\n",
       "    </tr>\n",
       "    <tr>\n",
       "      <th>1946</th>\n",
       "      <td>Zimbabwe</td>\n",
       "      <td>2018</td>\n",
       "      <td>3.616</td>\n",
       "      <td>8.049</td>\n",
       "      <td>3130.663</td>\n",
       "    </tr>\n",
       "    <tr>\n",
       "      <th>1947</th>\n",
       "      <td>Zimbabwe</td>\n",
       "      <td>2019</td>\n",
       "      <td>2.694</td>\n",
       "      <td>7.950</td>\n",
       "      <td>2835.575</td>\n",
       "    </tr>\n",
       "    <tr>\n",
       "      <th>1948</th>\n",
       "      <td>Zimbabwe</td>\n",
       "      <td>2020</td>\n",
       "      <td>3.160</td>\n",
       "      <td>7.829</td>\n",
       "      <td>2512.416</td>\n",
       "    </tr>\n",
       "  </tbody>\n",
       "</table>\n",
       "<p>1913 rows × 5 columns</p>\n",
       "</div>"
      ],
      "text/plain": [
       "     Country name  year  Life Ladder  Log GDP per capita  GDP per capita\n",
       "0     Afghanistan  2008        3.724               7.370        1587.634\n",
       "1     Afghanistan  2009        4.402               7.540        1881.830\n",
       "2     Afghanistan  2010        4.758               7.647        2094.353\n",
       "3     Afghanistan  2011        3.832               7.620        2038.562\n",
       "4     Afghanistan  2012        3.783               7.705        2219.417\n",
       "...           ...   ...          ...                 ...             ...\n",
       "1944     Zimbabwe  2016        3.735               7.984        2933.642\n",
       "1945     Zimbabwe  2017        3.638               8.016        3029.037\n",
       "1946     Zimbabwe  2018        3.616               8.049        3130.663\n",
       "1947     Zimbabwe  2019        2.694               7.950        2835.575\n",
       "1948     Zimbabwe  2020        3.160               7.829        2512.416\n",
       "\n",
       "[1913 rows x 5 columns]"
      ]
     },
     "execution_count": 273,
     "metadata": {},
     "output_type": "execute_result"
    }
   ],
   "source": [
    "df"
   ]
  },
  {
   "cell_type": "code",
   "execution_count": 23,
   "id": "520e52b0-db41-435b-b604-7a4eb28112b0",
   "metadata": {},
   "outputs": [],
   "source": [
    "del df ['Social support']"
   ]
  },
  {
   "cell_type": "code",
   "execution_count": 25,
   "id": "a9a6ccec-a0a0-4815-849e-5d2822086482",
   "metadata": {},
   "outputs": [],
   "source": [
    "del df ['Healthy life expectancy at birth']"
   ]
  },
  {
   "cell_type": "code",
   "execution_count": 26,
   "id": "27d95b3b-c3bc-49b4-bdab-8c0074fe995a",
   "metadata": {},
   "outputs": [],
   "source": [
    "del df ['Freedom to make life choices']"
   ]
  },
  {
   "cell_type": "code",
   "execution_count": 27,
   "id": "a1a19d58-f0cc-422d-b264-1595f428b790",
   "metadata": {},
   "outputs": [],
   "source": [
    "del df ['Generosity']"
   ]
  },
  {
   "cell_type": "code",
   "execution_count": 29,
   "id": "ee9c11ff-bd0f-4cda-b651-843a60a8263c",
   "metadata": {},
   "outputs": [],
   "source": [
    "del df ['Perceptions of corruption']"
   ]
  },
  {
   "cell_type": "code",
   "execution_count": 30,
   "id": "c0d57781-81b8-4949-93ef-8308858fc5c8",
   "metadata": {},
   "outputs": [],
   "source": [
    "del df ['Positive affect']"
   ]
  },
  {
   "cell_type": "code",
   "execution_count": 31,
   "id": "9ce67de8-5544-4024-af07-dac2c6a17e58",
   "metadata": {},
   "outputs": [],
   "source": [
    "del df ['Negative affect']"
   ]
  },
  {
   "cell_type": "code",
   "execution_count": 33,
   "id": "95bf6512-a465-4f11-a606-14f59ce8058b",
   "metadata": {},
   "outputs": [],
   "source": [
    "import math"
   ]
  },
  {
   "cell_type": "code",
   "execution_count": 47,
   "id": "7f77276d-23d7-4ee9-a375-d809abb5dc31",
   "metadata": {},
   "outputs": [
    {
     "data": {
      "text/plain": [
       "0       1587.634\n",
       "1       1881.830\n",
       "2       2094.353\n",
       "3       2038.562\n",
       "4       2219.417\n",
       "          ...   \n",
       "1944    2933.642\n",
       "1945    3029.037\n",
       "1946    3130.663\n",
       "1947    2835.575\n",
       "1948    2512.416\n",
       "Name: Log GDP per capita, Length: 1949, dtype: float64"
      ]
     },
     "execution_count": 47,
     "metadata": {},
     "output_type": "execute_result"
    }
   ],
   "source": [
    "GDPinValue = round(np.exp(df['Log GDP per capita']),3)\n",
    "GDPinValue"
   ]
  },
  {
   "cell_type": "code",
   "execution_count": 48,
   "id": "530ba5ba-f8c5-4844-b93c-4624ed0d4527",
   "metadata": {},
   "outputs": [],
   "source": [
    "df ['GDP per capita'] = GDPinValue"
   ]
  },
  {
   "cell_type": "code",
   "execution_count": null,
   "id": "9c09ab19-fbdd-4cec-ba71-3f17775378d4",
   "metadata": {},
   "outputs": [],
   "source": [
    "GDPinValue"
   ]
  },
  {
   "cell_type": "code",
   "execution_count": 162,
   "id": "5c2eb421-887e-4624-a770-b5ef33290ec1",
   "metadata": {},
   "outputs": [],
   "source": [
    "df=df.dropna()"
   ]
  },
  {
   "cell_type": "code",
   "execution_count": 247,
   "id": "c06a22a4-d950-4c2e-9977-9d271f861415",
   "metadata": {},
   "outputs": [],
   "source": [
    "cleaned_df = df[(df['year'] >= 2008) & (df['year'] <= 2018)]"
   ]
  },
  {
   "cell_type": "code",
   "execution_count": 274,
   "id": "be8daba2-87ab-474b-98be-879a92643c3f",
   "metadata": {},
   "outputs": [
    {
     "data": {
      "text/html": [
       "<div>\n",
       "<style scoped>\n",
       "    .dataframe tbody tr th:only-of-type {\n",
       "        vertical-align: middle;\n",
       "    }\n",
       "\n",
       "    .dataframe tbody tr th {\n",
       "        vertical-align: top;\n",
       "    }\n",
       "\n",
       "    .dataframe thead th {\n",
       "        text-align: right;\n",
       "    }\n",
       "</style>\n",
       "<table border=\"1\" class=\"dataframe\">\n",
       "  <thead>\n",
       "    <tr style=\"text-align: right;\">\n",
       "      <th></th>\n",
       "      <th>Country name</th>\n",
       "      <th>year</th>\n",
       "      <th>Life Ladder</th>\n",
       "      <th>Log GDP per capita</th>\n",
       "      <th>GDP per capita</th>\n",
       "      <th>GDP Categories</th>\n",
       "    </tr>\n",
       "  </thead>\n",
       "  <tbody>\n",
       "    <tr>\n",
       "      <th>0</th>\n",
       "      <td>Afghanistan</td>\n",
       "      <td>2008</td>\n",
       "      <td>3.724</td>\n",
       "      <td>7.370</td>\n",
       "      <td>1587.634</td>\n",
       "      <td>1587.634</td>\n",
       "    </tr>\n",
       "    <tr>\n",
       "      <th>1</th>\n",
       "      <td>Afghanistan</td>\n",
       "      <td>2009</td>\n",
       "      <td>4.402</td>\n",
       "      <td>7.540</td>\n",
       "      <td>1881.830</td>\n",
       "      <td>1881.830</td>\n",
       "    </tr>\n",
       "    <tr>\n",
       "      <th>2</th>\n",
       "      <td>Afghanistan</td>\n",
       "      <td>2010</td>\n",
       "      <td>4.758</td>\n",
       "      <td>7.647</td>\n",
       "      <td>2094.353</td>\n",
       "      <td>2094.353</td>\n",
       "    </tr>\n",
       "    <tr>\n",
       "      <th>3</th>\n",
       "      <td>Afghanistan</td>\n",
       "      <td>2011</td>\n",
       "      <td>3.832</td>\n",
       "      <td>7.620</td>\n",
       "      <td>2038.562</td>\n",
       "      <td>2038.562</td>\n",
       "    </tr>\n",
       "    <tr>\n",
       "      <th>4</th>\n",
       "      <td>Afghanistan</td>\n",
       "      <td>2012</td>\n",
       "      <td>3.783</td>\n",
       "      <td>7.705</td>\n",
       "      <td>2219.417</td>\n",
       "      <td>2219.417</td>\n",
       "    </tr>\n",
       "    <tr>\n",
       "      <th>...</th>\n",
       "      <td>...</td>\n",
       "      <td>...</td>\n",
       "      <td>...</td>\n",
       "      <td>...</td>\n",
       "      <td>...</td>\n",
       "      <td>...</td>\n",
       "    </tr>\n",
       "    <tr>\n",
       "      <th>1942</th>\n",
       "      <td>Zimbabwe</td>\n",
       "      <td>2014</td>\n",
       "      <td>4.184</td>\n",
       "      <td>7.991</td>\n",
       "      <td>2954.250</td>\n",
       "      <td>2954.250</td>\n",
       "    </tr>\n",
       "    <tr>\n",
       "      <th>1943</th>\n",
       "      <td>Zimbabwe</td>\n",
       "      <td>2015</td>\n",
       "      <td>3.703</td>\n",
       "      <td>7.992</td>\n",
       "      <td>2957.205</td>\n",
       "      <td>2957.205</td>\n",
       "    </tr>\n",
       "    <tr>\n",
       "      <th>1944</th>\n",
       "      <td>Zimbabwe</td>\n",
       "      <td>2016</td>\n",
       "      <td>3.735</td>\n",
       "      <td>7.984</td>\n",
       "      <td>2933.642</td>\n",
       "      <td>2933.642</td>\n",
       "    </tr>\n",
       "    <tr>\n",
       "      <th>1945</th>\n",
       "      <td>Zimbabwe</td>\n",
       "      <td>2017</td>\n",
       "      <td>3.638</td>\n",
       "      <td>8.016</td>\n",
       "      <td>3029.037</td>\n",
       "      <td>3029.037</td>\n",
       "    </tr>\n",
       "    <tr>\n",
       "      <th>1946</th>\n",
       "      <td>Zimbabwe</td>\n",
       "      <td>2018</td>\n",
       "      <td>3.616</td>\n",
       "      <td>8.049</td>\n",
       "      <td>3130.663</td>\n",
       "      <td>3130.663</td>\n",
       "    </tr>\n",
       "  </tbody>\n",
       "</table>\n",
       "<p>1470 rows × 6 columns</p>\n",
       "</div>"
      ],
      "text/plain": [
       "     Country name  year  Life Ladder  Log GDP per capita  GDP per capita  \\\n",
       "0     Afghanistan  2008        3.724               7.370        1587.634   \n",
       "1     Afghanistan  2009        4.402               7.540        1881.830   \n",
       "2     Afghanistan  2010        4.758               7.647        2094.353   \n",
       "3     Afghanistan  2011        3.832               7.620        2038.562   \n",
       "4     Afghanistan  2012        3.783               7.705        2219.417   \n",
       "...           ...   ...          ...                 ...             ...   \n",
       "1942     Zimbabwe  2014        4.184               7.991        2954.250   \n",
       "1943     Zimbabwe  2015        3.703               7.992        2957.205   \n",
       "1944     Zimbabwe  2016        3.735               7.984        2933.642   \n",
       "1945     Zimbabwe  2017        3.638               8.016        3029.037   \n",
       "1946     Zimbabwe  2018        3.616               8.049        3130.663   \n",
       "\n",
       "      GDP Categories  \n",
       "0           1587.634  \n",
       "1           1881.830  \n",
       "2           2094.353  \n",
       "3           2038.562  \n",
       "4           2219.417  \n",
       "...              ...  \n",
       "1942        2954.250  \n",
       "1943        2957.205  \n",
       "1944        2933.642  \n",
       "1945        3029.037  \n",
       "1946        3130.663  \n",
       "\n",
       "[1470 rows x 6 columns]"
      ]
     },
     "execution_count": 274,
     "metadata": {},
     "output_type": "execute_result"
    }
   ],
   "source": [
    "cleaned_df"
   ]
  },
  {
   "cell_type": "code",
   "execution_count": 253,
   "id": "b6d5b790-5f1f-4cf1-aaa3-a66850d980d3",
   "metadata": {},
   "outputs": [],
   "source": [
    "cleaned_df=cleaned_df.rename(columns = {'Categories':'GDP Categories'})"
   ]
  },
  {
   "cell_type": "code",
   "execution_count": 185,
   "id": "3874973c-a50f-42fc-8054-0d1b7208f72e",
   "metadata": {},
   "outputs": [
    {
     "data": {
      "text/plain": [
       "{2008, 2009, 2010, 2011, 2012, 2013, 2014, 2015, 2016, 2017, 2018}"
      ]
     },
     "execution_count": 185,
     "metadata": {},
     "output_type": "execute_result"
    }
   ],
   "source": [
    "set(cleaned_df['year'])"
   ]
  },
  {
   "cell_type": "code",
   "execution_count": 186,
   "id": "efc90a74-dac1-4ccf-b50a-269210639334",
   "metadata": {},
   "outputs": [
    {
     "data": {
      "text/plain": [
       "114119.337"
      ]
     },
     "execution_count": 186,
     "metadata": {},
     "output_type": "execute_result"
    }
   ],
   "source": [
    "max(cleaned_df['GDP per capita'])"
   ]
  },
  {
   "cell_type": "code",
   "execution_count": 187,
   "id": "3670901f-f5d6-437b-9cca-1cb09365e0e5",
   "metadata": {},
   "outputs": [
    {
     "data": {
      "text/plain": [
       "761.279"
      ]
     },
     "execution_count": 187,
     "metadata": {},
     "output_type": "execute_result"
    }
   ],
   "source": [
    "min(cleaned_df['GDP per capita'])"
   ]
  },
  {
   "cell_type": "code",
   "execution_count": 259,
   "id": "95f14d3e-8063-495c-b114-ab2156765d72",
   "metadata": {},
   "outputs": [
    {
     "data": {
      "text/plain": [
       "count      1470.000000\n",
       "mean      20198.257286\n",
       "std       20039.313562\n",
       "min         761.279000\n",
       "25%        4671.568250\n",
       "50%       12682.780500\n",
       "75%       30622.899750\n",
       "max      114119.337000\n",
       "Name: GDP Categories, dtype: float64"
      ]
     },
     "execution_count": 259,
     "metadata": {},
     "output_type": "execute_result"
    }
   ],
   "source": [
    "cleaned_df['GDP Categories'].describe()"
   ]
  },
  {
   "cell_type": "code",
   "execution_count": 255,
   "id": "397affa1-a499-4b91-9564-6ac853670c1e",
   "metadata": {},
   "outputs": [],
   "source": [
    "lowgdp = cleaned_df[(cleaned_df['GDP Categories'] >= 761.279) & (cleaned_df['GDP Categories'] <= 4671.568250)]"
   ]
  },
  {
   "cell_type": "code",
   "execution_count": 263,
   "id": "aed60f17-9d19-4961-80f6-f5e399109240",
   "metadata": {},
   "outputs": [
    {
     "data": {
      "text/html": [
       "<div>\n",
       "<style scoped>\n",
       "    .dataframe tbody tr th:only-of-type {\n",
       "        vertical-align: middle;\n",
       "    }\n",
       "\n",
       "    .dataframe tbody tr th {\n",
       "        vertical-align: top;\n",
       "    }\n",
       "\n",
       "    .dataframe thead th {\n",
       "        text-align: right;\n",
       "    }\n",
       "</style>\n",
       "<table border=\"1\" class=\"dataframe\">\n",
       "  <thead>\n",
       "    <tr style=\"text-align: right;\">\n",
       "      <th></th>\n",
       "      <th>Country name</th>\n",
       "      <th>year</th>\n",
       "      <th>Life Ladder</th>\n",
       "      <th>Log GDP per capita</th>\n",
       "      <th>GDP per capita</th>\n",
       "      <th>GDP Categories</th>\n",
       "    </tr>\n",
       "  </thead>\n",
       "  <tbody>\n",
       "    <tr>\n",
       "      <th>0</th>\n",
       "      <td>Afghanistan</td>\n",
       "      <td>2008</td>\n",
       "      <td>3.724</td>\n",
       "      <td>7.370</td>\n",
       "      <td>1587.634</td>\n",
       "      <td>1587.634</td>\n",
       "    </tr>\n",
       "    <tr>\n",
       "      <th>1</th>\n",
       "      <td>Afghanistan</td>\n",
       "      <td>2009</td>\n",
       "      <td>4.402</td>\n",
       "      <td>7.540</td>\n",
       "      <td>1881.830</td>\n",
       "      <td>1881.830</td>\n",
       "    </tr>\n",
       "    <tr>\n",
       "      <th>2</th>\n",
       "      <td>Afghanistan</td>\n",
       "      <td>2010</td>\n",
       "      <td>4.758</td>\n",
       "      <td>7.647</td>\n",
       "      <td>2094.353</td>\n",
       "      <td>2094.353</td>\n",
       "    </tr>\n",
       "    <tr>\n",
       "      <th>3</th>\n",
       "      <td>Afghanistan</td>\n",
       "      <td>2011</td>\n",
       "      <td>3.832</td>\n",
       "      <td>7.620</td>\n",
       "      <td>2038.562</td>\n",
       "      <td>2038.562</td>\n",
       "    </tr>\n",
       "    <tr>\n",
       "      <th>4</th>\n",
       "      <td>Afghanistan</td>\n",
       "      <td>2012</td>\n",
       "      <td>3.783</td>\n",
       "      <td>7.705</td>\n",
       "      <td>2219.417</td>\n",
       "      <td>2219.417</td>\n",
       "    </tr>\n",
       "    <tr>\n",
       "      <th>...</th>\n",
       "      <td>...</td>\n",
       "      <td>...</td>\n",
       "      <td>...</td>\n",
       "      <td>...</td>\n",
       "      <td>...</td>\n",
       "      <td>...</td>\n",
       "    </tr>\n",
       "    <tr>\n",
       "      <th>1942</th>\n",
       "      <td>Zimbabwe</td>\n",
       "      <td>2014</td>\n",
       "      <td>4.184</td>\n",
       "      <td>7.991</td>\n",
       "      <td>2954.250</td>\n",
       "      <td>2954.250</td>\n",
       "    </tr>\n",
       "    <tr>\n",
       "      <th>1943</th>\n",
       "      <td>Zimbabwe</td>\n",
       "      <td>2015</td>\n",
       "      <td>3.703</td>\n",
       "      <td>7.992</td>\n",
       "      <td>2957.205</td>\n",
       "      <td>2957.205</td>\n",
       "    </tr>\n",
       "    <tr>\n",
       "      <th>1944</th>\n",
       "      <td>Zimbabwe</td>\n",
       "      <td>2016</td>\n",
       "      <td>3.735</td>\n",
       "      <td>7.984</td>\n",
       "      <td>2933.642</td>\n",
       "      <td>2933.642</td>\n",
       "    </tr>\n",
       "    <tr>\n",
       "      <th>1945</th>\n",
       "      <td>Zimbabwe</td>\n",
       "      <td>2017</td>\n",
       "      <td>3.638</td>\n",
       "      <td>8.016</td>\n",
       "      <td>3029.037</td>\n",
       "      <td>3029.037</td>\n",
       "    </tr>\n",
       "    <tr>\n",
       "      <th>1946</th>\n",
       "      <td>Zimbabwe</td>\n",
       "      <td>2018</td>\n",
       "      <td>3.616</td>\n",
       "      <td>8.049</td>\n",
       "      <td>3130.663</td>\n",
       "      <td>3130.663</td>\n",
       "    </tr>\n",
       "  </tbody>\n",
       "</table>\n",
       "<p>368 rows × 6 columns</p>\n",
       "</div>"
      ],
      "text/plain": [
       "     Country name  year  Life Ladder  Log GDP per capita  GDP per capita  \\\n",
       "0     Afghanistan  2008        3.724               7.370        1587.634   \n",
       "1     Afghanistan  2009        4.402               7.540        1881.830   \n",
       "2     Afghanistan  2010        4.758               7.647        2094.353   \n",
       "3     Afghanistan  2011        3.832               7.620        2038.562   \n",
       "4     Afghanistan  2012        3.783               7.705        2219.417   \n",
       "...           ...   ...          ...                 ...             ...   \n",
       "1942     Zimbabwe  2014        4.184               7.991        2954.250   \n",
       "1943     Zimbabwe  2015        3.703               7.992        2957.205   \n",
       "1944     Zimbabwe  2016        3.735               7.984        2933.642   \n",
       "1945     Zimbabwe  2017        3.638               8.016        3029.037   \n",
       "1946     Zimbabwe  2018        3.616               8.049        3130.663   \n",
       "\n",
       "      GDP Categories  \n",
       "0           1587.634  \n",
       "1           1881.830  \n",
       "2           2094.353  \n",
       "3           2038.562  \n",
       "4           2219.417  \n",
       "...              ...  \n",
       "1942        2954.250  \n",
       "1943        2957.205  \n",
       "1944        2933.642  \n",
       "1945        3029.037  \n",
       "1946        3130.663  \n",
       "\n",
       "[368 rows x 6 columns]"
      ]
     },
     "execution_count": 263,
     "metadata": {},
     "output_type": "execute_result"
    }
   ],
   "source": [
    "lowgdp"
   ]
  },
  {
   "cell_type": "code",
   "execution_count": 256,
   "id": "a27c0124-3687-4e58-ab9e-369d857fca6c",
   "metadata": {},
   "outputs": [],
   "source": [
    "mediumgdp = cleaned_df[(cleaned_df['GDP Categories'] >= 4671.568250) & (cleaned_df['GDP Categories'] <= 30622.899750)]"
   ]
  },
  {
   "cell_type": "code",
   "execution_count": 271,
   "id": "e5c2b0af-27d2-4347-88fe-b6ad9ae38d0b",
   "metadata": {},
   "outputs": [],
   "source": [
    "highgdp = cleaned_df['GDP Categories'][(cleaned_df['GDP Categories'] >=  30622.899750) & (cleaned_df['GDP Categories'] <= 114119.337000)]"
   ]
  },
  {
   "cell_type": "code",
   "execution_count": 267,
   "id": "f53df60b-4980-470a-ae87-53a7478c9654",
   "metadata": {},
   "outputs": [
    {
     "data": {
      "text/plain": [
       "68      45206.674\n",
       "69      45342.497\n",
       "70      45844.018\n",
       "71      46816.922\n",
       "72      47192.960\n",
       "          ...    \n",
       "1844    57296.797\n",
       "1845    58512.752\n",
       "1846    59041.744\n",
       "1847    59934.046\n",
       "1848    61389.863\n",
       "Name: GDP Categories, Length: 368, dtype: float64"
      ]
     },
     "execution_count": 267,
     "metadata": {},
     "output_type": "execute_result"
    }
   ],
   "source": [
    "highgdp"
   ]
  },
  {
   "cell_type": "code",
   "execution_count": null,
   "id": "77638992-bce2-4072-a090-914213c4a17d",
   "metadata": {},
   "outputs": [],
   "source": [
    "cleaned_df.assign()"
   ]
  },
  {
   "cell_type": "code",
   "execution_count": 264,
   "id": "116ffbaf-238c-443b-9941-ca28d9d7a3c7",
   "metadata": {},
   "outputs": [
    {
     "data": {
      "text/plain": [
       "{'Low':      Country name  year  Life Ladder  Log GDP per capita  GDP per capita  \\\n",
       " 0     Afghanistan  2008        3.724               7.370        1587.634   \n",
       " 1     Afghanistan  2009        4.402               7.540        1881.830   \n",
       " 2     Afghanistan  2010        4.758               7.647        2094.353   \n",
       " 3     Afghanistan  2011        3.832               7.620        2038.562   \n",
       " 4     Afghanistan  2012        3.783               7.705        2219.417   \n",
       " ...           ...   ...          ...                 ...             ...   \n",
       " 1942     Zimbabwe  2014        4.184               7.991        2954.250   \n",
       " 1943     Zimbabwe  2015        3.703               7.992        2957.205   \n",
       " 1944     Zimbabwe  2016        3.735               7.984        2933.642   \n",
       " 1945     Zimbabwe  2017        3.638               8.016        3029.037   \n",
       " 1946     Zimbabwe  2018        3.616               8.049        3130.663   \n",
       " \n",
       "       GDP Categories  \n",
       " 0           1587.634  \n",
       " 1           1881.830  \n",
       " 2           2094.353  \n",
       " 3           2038.562  \n",
       " 4           2219.417  \n",
       " ...              ...  \n",
       " 1942        2954.250  \n",
       " 1943        2957.205  \n",
       " 1944        2933.642  \n",
       " 1945        3029.037  \n",
       " 1946        3130.663  \n",
       " \n",
       " [368 rows x 6 columns],\n",
       " 'Medium':      Country name  year  Life Ladder  Log GDP per capita  GDP per capita  \\\n",
       " 13        Albania  2009        5.485               9.262       10530.173   \n",
       " 14        Albania  2010        5.269               9.303       10970.883   \n",
       " 15        Albania  2011        5.867               9.331       11282.408   \n",
       " 16        Albania  2012        5.510               9.347       11464.379   \n",
       " 17        Albania  2013        4.551               9.359       11602.780   \n",
       " ...           ...   ...          ...                 ...             ...   \n",
       " 1903      Vietnam  2015        5.076               8.770        6438.172   \n",
       " 1904      Vietnam  2016        5.062               8.820        6768.265   \n",
       " 1905      Vietnam  2017        5.175               8.876        7158.101   \n",
       " 1906      Vietnam  2018        5.296               8.934        7585.547   \n",
       " 1910        Yemen  2010        4.350               8.453        4689.119   \n",
       " \n",
       "       GDP Categories  \n",
       " 13         10530.173  \n",
       " 14         10970.883  \n",
       " 15         11282.408  \n",
       " 16         11464.379  \n",
       " 17         11602.780  \n",
       " ...              ...  \n",
       " 1903        6438.172  \n",
       " 1904        6768.265  \n",
       " 1905        7158.101  \n",
       " 1906        7585.547  \n",
       " 1910        4689.119  \n",
       " \n",
       " [734 rows x 6 columns],\n",
       " 'High':        Country name  year  Life Ladder  Log GDP per capita  GDP per capita  \\\n",
       " 68        Australia  2008        7.254              10.719       45206.674   \n",
       " 69        Australia  2010        7.450              10.722       45342.497   \n",
       " 70        Australia  2011        7.406              10.733       45844.018   \n",
       " 71        Australia  2012        7.196              10.754       46816.922   \n",
       " 72        Australia  2013        7.364              10.762       47192.960   \n",
       " ...             ...   ...          ...                 ...             ...   \n",
       " 1844  United States  2014        7.151              10.956       57296.797   \n",
       " 1845  United States  2015        6.864              10.977       58512.752   \n",
       " 1846  United States  2016        6.804              10.986       59041.744   \n",
       " 1847  United States  2017        6.992              11.001       59934.046   \n",
       " 1848  United States  2018        6.883              11.025       61389.863   \n",
       " \n",
       "       GDP Categories  \n",
       " 68         45206.674  \n",
       " 69         45342.497  \n",
       " 70         45844.018  \n",
       " 71         46816.922  \n",
       " 72         47192.960  \n",
       " ...              ...  \n",
       " 1844       57296.797  \n",
       " 1845       58512.752  \n",
       " 1846       59041.744  \n",
       " 1847       59934.046  \n",
       " 1848       61389.863  \n",
       " \n",
       " [368 rows x 6 columns]}"
      ]
     },
     "execution_count": 264,
     "metadata": {},
     "output_type": "execute_result"
    }
   ],
   "source": [
    "gdpdict = {'Low': lowgdp, 'Medium':mediumgdp, 'High':highgdp}\n",
    "gdpdict"
   ]
  },
  {
   "cell_type": "code",
   "execution_count": 260,
   "id": "09706c99-5800-4363-8074-908078b22abb",
   "metadata": {},
   "outputs": [
    {
     "data": {
      "text/html": [
       "<div>\n",
       "<style scoped>\n",
       "    .dataframe tbody tr th:only-of-type {\n",
       "        vertical-align: middle;\n",
       "    }\n",
       "\n",
       "    .dataframe tbody tr th {\n",
       "        vertical-align: top;\n",
       "    }\n",
       "\n",
       "    .dataframe thead th {\n",
       "        text-align: right;\n",
       "    }\n",
       "</style>\n",
       "<table border=\"1\" class=\"dataframe\">\n",
       "  <thead>\n",
       "    <tr style=\"text-align: right;\">\n",
       "      <th></th>\n",
       "      <th>Country name</th>\n",
       "      <th>year</th>\n",
       "      <th>Life Ladder</th>\n",
       "      <th>Log GDP per capita</th>\n",
       "      <th>GDP per capita</th>\n",
       "      <th>GDP Categories</th>\n",
       "    </tr>\n",
       "  </thead>\n",
       "  <tbody>\n",
       "    <tr>\n",
       "      <th>13</th>\n",
       "      <td>Albania</td>\n",
       "      <td>2009</td>\n",
       "      <td>5.485</td>\n",
       "      <td>9.262</td>\n",
       "      <td>10530.173</td>\n",
       "      <td>10530.173</td>\n",
       "    </tr>\n",
       "    <tr>\n",
       "      <th>14</th>\n",
       "      <td>Albania</td>\n",
       "      <td>2010</td>\n",
       "      <td>5.269</td>\n",
       "      <td>9.303</td>\n",
       "      <td>10970.883</td>\n",
       "      <td>10970.883</td>\n",
       "    </tr>\n",
       "    <tr>\n",
       "      <th>15</th>\n",
       "      <td>Albania</td>\n",
       "      <td>2011</td>\n",
       "      <td>5.867</td>\n",
       "      <td>9.331</td>\n",
       "      <td>11282.408</td>\n",
       "      <td>11282.408</td>\n",
       "    </tr>\n",
       "    <tr>\n",
       "      <th>16</th>\n",
       "      <td>Albania</td>\n",
       "      <td>2012</td>\n",
       "      <td>5.510</td>\n",
       "      <td>9.347</td>\n",
       "      <td>11464.379</td>\n",
       "      <td>11464.379</td>\n",
       "    </tr>\n",
       "    <tr>\n",
       "      <th>17</th>\n",
       "      <td>Albania</td>\n",
       "      <td>2013</td>\n",
       "      <td>4.551</td>\n",
       "      <td>9.359</td>\n",
       "      <td>11602.780</td>\n",
       "      <td>11602.780</td>\n",
       "    </tr>\n",
       "  </tbody>\n",
       "</table>\n",
       "</div>"
      ],
      "text/plain": [
       "   Country name  year  Life Ladder  Log GDP per capita  GDP per capita  \\\n",
       "13      Albania  2009        5.485               9.262       10530.173   \n",
       "14      Albania  2010        5.269               9.303       10970.883   \n",
       "15      Albania  2011        5.867               9.331       11282.408   \n",
       "16      Albania  2012        5.510               9.347       11464.379   \n",
       "17      Albania  2013        4.551               9.359       11602.780   \n",
       "\n",
       "    GDP Categories  \n",
       "13       10530.173  \n",
       "14       10970.883  \n",
       "15       11282.408  \n",
       "16       11464.379  \n",
       "17       11602.780  "
      ]
     },
     "execution_count": 260,
     "metadata": {},
     "output_type": "execute_result"
    }
   ],
   "source": [
    "mediumgdp.head()"
   ]
  },
  {
   "cell_type": "code",
   "execution_count": 206,
   "id": "ec4bb43f-e330-4e52-9f9c-16b248038e6d",
   "metadata": {},
   "outputs": [
    {
     "data": {
      "text/html": [
       "<div>\n",
       "<style scoped>\n",
       "    .dataframe tbody tr th:only-of-type {\n",
       "        vertical-align: middle;\n",
       "    }\n",
       "\n",
       "    .dataframe tbody tr th {\n",
       "        vertical-align: top;\n",
       "    }\n",
       "\n",
       "    .dataframe thead th {\n",
       "        text-align: right;\n",
       "    }\n",
       "</style>\n",
       "<table border=\"1\" class=\"dataframe\">\n",
       "  <thead>\n",
       "    <tr style=\"text-align: right;\">\n",
       "      <th></th>\n",
       "      <th>Country name</th>\n",
       "      <th>year</th>\n",
       "      <th>Life Ladder</th>\n",
       "      <th>Log GDP per capita</th>\n",
       "      <th>GDP per capita</th>\n",
       "    </tr>\n",
       "  </thead>\n",
       "  <tbody>\n",
       "    <tr>\n",
       "      <th>68</th>\n",
       "      <td>Australia</td>\n",
       "      <td>2008</td>\n",
       "      <td>7.254</td>\n",
       "      <td>10.719</td>\n",
       "      <td>45206.674</td>\n",
       "    </tr>\n",
       "    <tr>\n",
       "      <th>69</th>\n",
       "      <td>Australia</td>\n",
       "      <td>2010</td>\n",
       "      <td>7.450</td>\n",
       "      <td>10.722</td>\n",
       "      <td>45342.497</td>\n",
       "    </tr>\n",
       "    <tr>\n",
       "      <th>70</th>\n",
       "      <td>Australia</td>\n",
       "      <td>2011</td>\n",
       "      <td>7.406</td>\n",
       "      <td>10.733</td>\n",
       "      <td>45844.018</td>\n",
       "    </tr>\n",
       "    <tr>\n",
       "      <th>71</th>\n",
       "      <td>Australia</td>\n",
       "      <td>2012</td>\n",
       "      <td>7.196</td>\n",
       "      <td>10.754</td>\n",
       "      <td>46816.922</td>\n",
       "    </tr>\n",
       "    <tr>\n",
       "      <th>72</th>\n",
       "      <td>Australia</td>\n",
       "      <td>2013</td>\n",
       "      <td>7.364</td>\n",
       "      <td>10.762</td>\n",
       "      <td>47192.960</td>\n",
       "    </tr>\n",
       "  </tbody>\n",
       "</table>\n",
       "</div>"
      ],
      "text/plain": [
       "   Country name  year  Life Ladder  Log GDP per capita  GDP per capita\n",
       "68    Australia  2008        7.254              10.719       45206.674\n",
       "69    Australia  2010        7.450              10.722       45342.497\n",
       "70    Australia  2011        7.406              10.733       45844.018\n",
       "71    Australia  2012        7.196              10.754       46816.922\n",
       "72    Australia  2013        7.364              10.762       47192.960"
      ]
     },
     "execution_count": 206,
     "metadata": {},
     "output_type": "execute_result"
    }
   ],
   "source": [
    "highgdp.head()"
   ]
  },
  {
   "cell_type": "code",
   "execution_count": null,
   "id": "b126bd34-6756-40e1-8c1e-efeee3f993cb",
   "metadata": {},
   "outputs": [],
   "source": []
  },
  {
   "cell_type": "code",
   "execution_count": null,
   "id": "32da093d-08d6-4b62-a1bb-e38ebffb9d2f",
   "metadata": {},
   "outputs": [],
   "source": []
  }
 ],
 "metadata": {
  "kernelspec": {
   "display_name": "Python 3 (ipykernel)",
   "language": "python",
   "name": "python3"
  },
  "language_info": {
   "codemirror_mode": {
    "name": "ipython",
    "version": 3
   },
   "file_extension": ".py",
   "mimetype": "text/x-python",
   "name": "python",
   "nbconvert_exporter": "python",
   "pygments_lexer": "ipython3",
   "version": "3.8.5"
  }
 },
 "nbformat": 4,
 "nbformat_minor": 5
}
