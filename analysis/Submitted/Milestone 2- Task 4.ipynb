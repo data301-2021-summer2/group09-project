{
 "cells": [
  {
   "cell_type": "markdown",
   "id": "c4d561cc-9a31-4bc3-9754-a2572094f82d",
   "metadata": {},
   "source": [
    "# Research Question"
   ]
  },
  {
   "cell_type": "markdown",
   "id": "cdef2c0a-49e9-4a44-b929-97bef86bbe0f",
   "metadata": {},
   "source": [
    "### Eloise\n",
    "- Is there a relationship between the life ladder and GDP per capita between 2008 and 2018? If there is, specify the trend.\n",
    "- There is a positive correlation between the life ladder and GDP per capita between 2008 and 2018. In 2008, the relationshp between the life ladder and GDP per capita is almost perfectly positive, whereas the relationshp between these two variable is the least positive in 2012. From 2015 to 2018, the linear correlations are almost the same."
   ]
  },
  {
   "cell_type": "markdown",
   "id": "e1fcf183-acef-409c-9bbc-62ae54c59b65",
   "metadata": {},
   "source": [
    "### June\n",
    "- #your question here\n",
    "- #answer"
   ]
  },
  {
   "cell_type": "markdown",
   "id": "5d78cab9-c580-480f-b9c9-afe315287a15",
   "metadata": {},
   "source": [
    "### Gabrielcha\n",
    "- What is the relationship between the country which has the highest average life expectancy at birth \n",
    " and highestfreedom to make life choices from 2008 to 2018?\n",
    "-there is a postive relationship bewteen these two varibale.However, for the country who has higher life expectancy does not mean have the highest freedom -life choices. "
   ]
  },
  {
   "cell_type": "code",
   "execution_count": null,
   "id": "2a55bf88-b368-4ab8-a797-24676e5b545d",
   "metadata": {},
   "outputs": [],
   "source": []
  }
 ],
 "metadata": {
  "kernelspec": {
   "display_name": "Python 3 (ipykernel)",
   "language": "python",
   "name": "python3"
  },
  "language_info": {
   "codemirror_mode": {
    "name": "ipython",
    "version": 3
   },
   "file_extension": ".py",
   "mimetype": "text/x-python",
   "name": "python",
   "nbconvert_exporter": "python",
   "pygments_lexer": "ipython3",
   "version": "3.8.10"
  }
 },
 "nbformat": 4,
 "nbformat_minor": 5
}
