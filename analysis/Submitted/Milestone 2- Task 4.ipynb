{
 "cells": [
  {
   "cell_type": "markdown",
   "id": "c4d561cc-9a31-4bc3-9754-a2572094f82d",
   "metadata": {},
   "source": [
    "# Research Question"
   ]
  },
  {
   "cell_type": "markdown",
   "id": "cdef2c0a-49e9-4a44-b929-97bef86bbe0f",
   "metadata": {},
   "source": [
    "### Eloise\n",
    "- Is there a relationship between the life ladder and GDP per capita from 2008 to 2018? (with a close look to low, medium, and high GDP per capita)\n",
    "- #answer"
   ]
  },
  {
   "cell_type": "markdown",
   "id": "e1fcf183-acef-409c-9bbc-62ae54c59b65",
   "metadata": {},
   "source": [
    "### June\n",
    "- #your question here\n",
    "- #answer"
   ]
  },
  {
   "cell_type": "markdown",
   "id": "5d78cab9-c580-480f-b9c9-afe315287a15",
   "metadata": {},
   "source": [
    "### Gabrielcha\n",
    "- What is the relationship between the country which has the highest average life expectancy at birth \n",
    " and freedom to make life choices from 2008 to 2018?\n",
    "- #answer"
   ]
  },
  {
   "cell_type": "code",
   "execution_count": null,
   "id": "c100d318-c6e2-4608-aefc-3ad2982df594",
   "metadata": {},
   "outputs": [],
   "source": []
  }
 ],
 "metadata": {
  "kernelspec": {
   "display_name": "Python 3 (ipykernel)",
   "language": "python",
   "name": "python3"
  },
  "language_info": {
   "codemirror_mode": {
    "name": "ipython",
    "version": 3
   },
   "file_extension": ".py",
   "mimetype": "text/x-python",
   "name": "python",
   "nbconvert_exporter": "python",
   "pygments_lexer": "ipython3",
   "version": "3.8.10"
  }
 },
 "nbformat": 4,
 "nbformat_minor": 5
}
