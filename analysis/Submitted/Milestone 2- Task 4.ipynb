{
 "cells": [
  {
   "cell_type": "markdown",
   "id": "c4d561cc-9a31-4bc3-9754-a2572094f82d",
   "metadata": {},
   "source": [
    "# Research Question"
   ]
  },
  {
   "cell_type": "markdown",
   "id": "cdef2c0a-49e9-4a44-b929-97bef86bbe0f",
   "metadata": {},
   "source": [
    "## Eloise\n",
    "- Is there a relationship between the life ladder and GDP per capita between 2008 and 2018? If there is, specify the trend.\n",
    "- There is a positive correlation between the life ladder and GDP per capita between 2008 and 2018. In 2008, the relationshp between the life ladder and GDP per capita is almost perfectly positive, whereas the relationshp between these two variable is the least positive in 2012. From 2015 to 2018, the linear correlations are almost the same.\n",
    "- We can see from the jointplot and scatterplot that there is a positive correlation between the life ladder and GDP per capita. By using load_year function and creating jointplot for each year, we can identify which year has the most significant relationship. To see the differences clearly, using facetgrid of the regression plots for each year helps the most of the data visualization."
   ]
  },
  {
   "cell_type": "markdown",
   "id": "e1fcf183-acef-409c-9bbc-62ae54c59b65",
   "metadata": {},
   "source": [
    "## June\n",
    "- #your question here\n",
    "- #answer"
   ]
  },
  {
   "cell_type": "markdown",
   "id": "5d78cab9-c580-480f-b9c9-afe315287a15",
   "metadata": {},
   "source": [
    "## Gabrielcha\n",
    "- Which countries are the top 10 highest average life expectancy and highest average freedom to make life choices represented? \n",
    "- How much differences between the gap in No1 and No10 in the list? Which gaps are biggest? \n",
    "- What is the relationship between the country which has the highest average life expectancy at birth from 2008 to 2018 and hightest average freedom to make life choices?"
   ]
  },
  {
   "cell_type": "markdown",
   "id": "2373f336-f01c-41e5-840a-70f9480ac035",
   "metadata": {},
   "source": [
    "### The hypothesis I came out after digging in the analysis\n",
    "- Hypothesis1: The gap in life expetancy from top1 to the last one are less than the relative gap in Freedom_life_choices_in_percentage. \n",
    "- Hypothesis2: There are some positive relationship between these two variables.\n",
    "\n",
    "- Both Hypothesis are correct. however the correlation cofficient are weak, which means for the countries who have highest average life expectancy, might have realtively high average on freedom of the life choice\n",
    "- extra finding: For countries who have a average life_expectancy around 58 to 70, have higher possibility to have a around 60% to 80% freedom of life choice, because the density of those area are high."
   ]
  },
  {
   "cell_type": "code",
   "execution_count": null,
   "id": "474acaf8-a720-417f-8c8c-1268603a31c6",
   "metadata": {},
   "outputs": [],
   "source": []
  }
 ],
 "metadata": {
  "kernelspec": {
   "display_name": "Python 3 (ipykernel)",
   "language": "python",
   "name": "python3"
  },
  "language_info": {
   "codemirror_mode": {
    "name": "ipython",
    "version": 3
   },
   "file_extension": ".py",
   "mimetype": "text/x-python",
   "name": "python",
   "nbconvert_exporter": "python",
   "pygments_lexer": "ipython3",
   "version": "3.8.10"
  }
 },
 "nbformat": 4,
 "nbformat_minor": 5
}
