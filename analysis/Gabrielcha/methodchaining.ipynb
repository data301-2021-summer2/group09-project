{
 "cells": [
  {
   "cell_type": "code",
   "execution_count": 72,
   "id": "59f9a582-c8f4-4f31-8797-07bc14704141",
   "metadata": {},
   "outputs": [],
   "source": [
    "import pandas as pd\n",
    "import numpy as np\n",
    "import matplotlib.pyplot as plt\n",
    "import seaborn as sns\n",
    "from pandas_profiling import ProfileReport\n"
   ]
  },
  {
   "cell_type": "code",
   "execution_count": 78,
   "id": "b3b7a5b7-cb02-4199-b274-5d018cf4530b",
   "metadata": {},
   "outputs": [],
   "source": [
    "# Method chaining begins\n",
    "\n",
    "# Method Chain 1 (Load data and clean data and process )\n",
    "\n",
    "\n",
    "def load_and_process(url_or_path_to_csv_file):\n",
    "    \n",
    "    data=pd.read_csv(url_or_path_to_csv_file)\n",
    "\n",
    "    df1 = (\n",
    "              data[(data.year >=2008) & (data.year <=2018)]\n",
    "             .drop(['Life Ladder', 'Log GDP per capita','Social support','Generosity','Perceptions of corruption','Positive affect', 'Negative affect'],axis=1) \n",
    "             .rename(columns={'Healthy life expectancy at birth':'life_expectancy','Freedom to make life choices':'Freedom_life_choices_in_percentage'})\n",
    "             .assign(Freedom_life_choices_in_percentage=lambda x: x['Freedom_life_choices_in_percentage']*100)\n",
    "             .assign(life_expectancy=lambda x: x['life_expectancy'].fillna(df1.groupby('Country name')['life_expectancy'].transform('mean')))\n",
    "    )\n",
    "\n",
    "#method chain 2 (Load data and clean data and process )\n",
    "\n",
    "    df2 = (\n",
    "            df1\n",
    "            .assign(Freedom_life_choices_in_percentage=lambda x: x['Freedom_life_choices_in_percentage'].fillna(df1.groupby('Country name')['Freedom_life_choices_in_percentage'].transform('mean')))\n",
    "            .fillna(0,axis='columns')\n",
    "            .loc[(df1['life_expectancy'] != 0) ]\n",
    "            .groupby('Country name')\n",
    "            .filter(lambda x : len(x)>10)\n",
    "\n",
    "         )\n",
    "    \n",
    "    return df2"
   ]
  },
  {
   "cell_type": "code",
   "execution_count": null,
   "id": "cbf6f3cc-ca14-46f5-8bad-bb75cda48812",
   "metadata": {},
   "outputs": [],
   "source": []
  }
 ],
 "metadata": {
  "kernelspec": {
   "display_name": "Python 3 (ipykernel)",
   "language": "python",
   "name": "python3"
  },
  "language_info": {
   "codemirror_mode": {
    "name": "ipython",
    "version": 3
   },
   "file_extension": ".py",
   "mimetype": "text/x-python",
   "name": "python",
   "nbconvert_exporter": "python",
   "pygments_lexer": "ipython3",
   "version": "3.8.10"
  }
 },
 "nbformat": 4,
 "nbformat_minor": 5
}
