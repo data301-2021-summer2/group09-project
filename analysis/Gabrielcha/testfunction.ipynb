{
 "cells": [
  {
   "cell_type": "code",
   "execution_count": 38,
   "id": "c0c1149e-d6de-4c55-8be6-c365fc0ac34d",
   "metadata": {},
   "outputs": [],
   "source": [
    "import sys\n",
    "import pandas as pd\n",
    "import numpy as np\n",
    "import matplotlib.pylab as plt\n",
    "import seaborn as sns\n",
    "from pandas_profiling import ProfileReport\n",
    "\n",
    "sys.path.append('../../')"
   ]
  },
  {
   "cell_type": "code",
   "execution_count": null,
   "id": "d97e9ce1-e6ad-4d68-bd92-f6dbc74d8fa2",
   "metadata": {},
   "outputs": [],
   "source": [
    "#from scripts import project_functions as pf # This is called a relative import\n",
    "\n",
    "\n",
    "#df=pf.pd.read_csv('../../data/processed/h_ind_merged_noalco.csv')"
   ]
  },
  {
   "cell_type": "code",
   "execution_count": 39,
   "id": "8ed9c1cb-f6fe-483e-9fe3-4620c753b6de",
   "metadata": {},
   "outputs": [
    {
     "ename": "ImportError",
     "evalue": "cannot import name 'project_functions' from 'scripts' (C:\\Users\\hecheng\\miniconda3\\lib\\site-packages\\scripts\\__init__.py)",
     "output_type": "error",
     "traceback": [
      "\u001b[1;31m---------------------------------------------------------------------------\u001b[0m",
      "\u001b[1;31mImportError\u001b[0m                               Traceback (most recent call last)",
      "\u001b[1;32m~\\AppData\\Local\\Temp/ipykernel_9388/2594201926.py\u001b[0m in \u001b[0;36m<module>\u001b[1;34m\u001b[0m\n\u001b[1;32m----> 1\u001b[1;33m \u001b[1;32mfrom\u001b[0m \u001b[0mscripts\u001b[0m \u001b[1;32mimport\u001b[0m \u001b[0mproject_functions\u001b[0m \u001b[1;32mas\u001b[0m \u001b[0mpt\u001b[0m\u001b[1;33m\u001b[0m\u001b[1;33m\u001b[0m\u001b[0m\n\u001b[0m\u001b[0;32m      2\u001b[0m \u001b[0mpt\u001b[0m\u001b[1;33m.\u001b[0m\u001b[0mload_and_process\u001b[0m\u001b[1;33m(\u001b[0m\u001b[1;34m'../../data/raw/whreport.csv'\u001b[0m\u001b[1;33m)\u001b[0m\u001b[1;33m\u001b[0m\u001b[1;33m\u001b[0m\u001b[0m\n",
      "\u001b[1;31mImportError\u001b[0m: cannot import name 'project_functions' from 'scripts' (C:\\Users\\hecheng\\miniconda3\\lib\\site-packages\\scripts\\__init__.py)"
     ]
    }
   ],
   "source": [
    "from scripts import project_functions as pt\n",
    "pt.load_and_process('../../data/raw/whreport.csv')"
   ]
  },
  {
   "cell_type": "code",
   "execution_count": null,
   "id": "13aebc46-d4e7-40b0-a0b9-8ca99616e858",
   "metadata": {},
   "outputs": [],
   "source": [
    "\n",
    "#import sys\n",
    "#sys.path.append('../scripts')"
   ]
  },
  {
   "cell_type": "code",
   "execution_count": 30,
   "id": "637d3328-2a23-4835-bc5c-b7c74e3f81c7",
   "metadata": {},
   "outputs": [
    {
     "name": "stdout",
     "output_type": "stream",
     "text": [
      "C:\\Users\\hecheng\\desktop\\cosc301\\group09-project\n"
     ]
    }
   ],
   "source": [
    "cd .."
   ]
  },
  {
   "cell_type": "code",
   "execution_count": 32,
   "id": "5ac9e659-46c3-4d56-adab-0933459d98c1",
   "metadata": {},
   "outputs": [
    {
     "name": "stdout",
     "output_type": "stream",
     "text": [
      "C:\\Users\\hecheng\\desktop\\cosc301\\group09-project\\analysis\\gabrielcha\n"
     ]
    }
   ],
   "source": [
    "cd analysis/gabrielcha"
   ]
  },
  {
   "cell_type": "code",
   "execution_count": 33,
   "id": "84f2fbeb-8408-41f7-ad0a-07ad8ab353f5",
   "metadata": {},
   "outputs": [
    {
     "name": "stdout",
     "output_type": "stream",
     "text": [
      " Volume in drive C is Windows8_OS\n",
      " Volume Serial Number is B2CD-E7B7\n",
      "\n",
      " Directory of C:\\Users\\hecheng\\desktop\\cosc301\\group09-project\\analysis\\gabrielcha\n",
      "\n",
      "2021-08-10  11:20 AM    <DIR>          .\n",
      "2021-08-10  11:20 AM    <DIR>          ..\n",
      "2021-08-10  10:58 AM    <DIR>          .ipynb_checkpoints\n",
      "2021-08-10  10:55 AM           350,089 analysis_notebook.ipynb\n",
      "2021-08-10  11:20 AM             3,233 importthefunction.ipynb\n",
      "2021-08-10  11:04 AM             2,538 methodchaining.ipynb\n",
      "2021-08-10  11:02 AM            13,654 milestone1.ipynb\n",
      "2021-07-28  10:25 PM                44 README.md\n",
      "               5 File(s)        369,558 bytes\n",
      "               3 Dir(s)  11,619,799,040 bytes free\n"
     ]
    }
   ],
   "source": [
    "ls"
   ]
  },
  {
   "cell_type": "code",
   "execution_count": 34,
   "id": "46ae6f0a-6d8c-4641-8a38-ef0d2a1fa770",
   "metadata": {},
   "outputs": [
    {
     "name": "stdout",
     "output_type": "stream",
     "text": [
      "[WinError 267] 目录名称无效。: 'importthefunction.ipynb'\n",
      "C:\\Users\\hecheng\\desktop\\cosc301\\group09-project\\analysis\\gabrielcha\n"
     ]
    }
   ],
   "source": [
    "cd importthefunction.ipynb\n"
   ]
  },
  {
   "cell_type": "code",
   "execution_count": 35,
   "id": "9b0b1a9d-0f88-4251-8e8f-d5d3a2be5e24",
   "metadata": {},
   "outputs": [
    {
     "ename": "SyntaxError",
     "evalue": "invalid syntax (Temp/ipykernel_9388/3880774845.py, line 1)",
     "output_type": "error",
     "traceback": [
      "\u001b[1;36m  File \u001b[1;32m\"C:\\Users\\hecheng\\AppData\\Local\\Temp/ipykernel_9388/3880774845.py\"\u001b[1;36m, line \u001b[1;32m1\u001b[0m\n\u001b[1;33m    code importthefunction.ipynb\u001b[0m\n\u001b[1;37m         ^\u001b[0m\n\u001b[1;31mSyntaxError\u001b[0m\u001b[1;31m:\u001b[0m invalid syntax\n"
     ]
    }
   ],
   "source": [
    "code importthefunction.ipynb\n"
   ]
  },
  {
   "cell_type": "code",
   "execution_count": 36,
   "id": "8c8d7195-04ac-47e6-9cc4-a194646992eb",
   "metadata": {},
   "outputs": [
    {
     "name": "stdout",
     "output_type": "stream",
     "text": [
      " Volume in drive C is Windows8_OS\n",
      " Volume Serial Number is B2CD-E7B7\n",
      "\n",
      " Directory of C:\\Users\\hecheng\\desktop\\cosc301\\group09-project\\analysis\\gabrielcha\n",
      "\n",
      "2021-08-10  11:22 AM    <DIR>          .\n",
      "2021-08-10  11:22 AM    <DIR>          ..\n",
      "2021-08-10  11:22 AM    <DIR>          .ipynb_checkpoints\n",
      "2021-08-10  10:55 AM           350,089 analysis_notebook.ipynb\n",
      "2021-08-10  11:04 AM             2,538 methodchaining.ipynb\n",
      "2021-08-10  11:02 AM            13,654 milestone1.ipynb\n",
      "2021-07-28  10:25 PM                44 README.md\n",
      "2021-08-10  11:22 AM             5,770 testfunction.ipynb\n",
      "               5 File(s)        372,095 bytes\n",
      "               3 Dir(s)  11,619,491,840 bytes free\n"
     ]
    }
   ],
   "source": [
    "ls"
   ]
  },
  {
   "cell_type": "code",
   "execution_count": 37,
   "id": "14638f23-8822-49bd-a25d-b67ba7598570",
   "metadata": {},
   "outputs": [
    {
     "data": {
      "text/plain": [
       "'C:\\\\Users\\\\hecheng\\\\desktop\\\\cosc301\\\\group09-project\\\\analysis\\\\gabrielcha'"
      ]
     },
     "execution_count": 37,
     "metadata": {},
     "output_type": "execute_result"
    }
   ],
   "source": [
    "pwd"
   ]
  },
  {
   "cell_type": "code",
   "execution_count": null,
   "id": "a318747c-7ffc-463f-a39a-619789298e16",
   "metadata": {},
   "outputs": [],
   "source": []
  }
 ],
 "metadata": {
  "kernelspec": {
   "display_name": "Python 3 (ipykernel)",
   "language": "python",
   "name": "python3"
  },
  "language_info": {
   "codemirror_mode": {
    "name": "ipython",
    "version": 3
   },
   "file_extension": ".py",
   "mimetype": "text/x-python",
   "name": "python",
   "nbconvert_exporter": "python",
   "pygments_lexer": "ipython3",
   "version": "3.8.10"
  }
 },
 "nbformat": 4,
 "nbformat_minor": 5
}
